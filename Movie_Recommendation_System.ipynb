{
  "nbformat": 4,
  "nbformat_minor": 0,
  "metadata": {
    "colab": {
      "name": "Movie Recommendation System.ipynb",
      "provenance": [],
      "collapsed_sections": [],
      "authorship_tag": "ABX9TyNDVTebrphdyeEjeP2N64Vw",
      "include_colab_link": true
    },
    "kernelspec": {
      "name": "python3",
      "display_name": "Python 3"
    },
    "language_info": {
      "name": "python"
    }
  },
  "cells": [
    {
      "cell_type": "markdown",
      "metadata": {
        "id": "view-in-github",
        "colab_type": "text"
      },
      "source": [
        "<a href=\"https://colab.research.google.com/github/garvit1212/Machine-Learning-codes/blob/main/Movie_Recommendation_System.ipynb\" target=\"_parent\"><img src=\"https://colab.research.google.com/assets/colab-badge.svg\" alt=\"Open In Colab\"/></a>"
      ]
    },
    {
      "cell_type": "code",
      "metadata": {
        "colab": {
          "base_uri": "https://localhost:8080/"
        },
        "id": "dBGg_llSsHcq",
        "outputId": "f70ed85f-3b9b-4e62-d45b-02c5545cfb76"
      },
      "source": [
        "from google.colab import drive\n",
        "drive.mount('/content/drive')"
      ],
      "execution_count": null,
      "outputs": [
        {
          "output_type": "stream",
          "text": [
            "Mounted at /content/drive\n"
          ],
          "name": "stdout"
        }
      ]
    },
    {
      "cell_type": "code",
      "metadata": {
        "colab": {
          "base_uri": "https://localhost:8080/"
        },
        "id": "1VEEjVWFvbrC",
        "outputId": "42d18230-dbc1-4872-c741-234abffb8c6e"
      },
      "source": [
        "!ls\n"
      ],
      "execution_count": null,
      "outputs": [
        {
          "output_type": "stream",
          "text": [
            "drive  Movie-Recommender-in-python  sample_data\n"
          ],
          "name": "stdout"
        }
      ]
    },
    {
      "cell_type": "code",
      "metadata": {
        "colab": {
          "base_uri": "https://localhost:8080/"
        },
        "id": "hhzK3Gs4vjKz",
        "outputId": "258e13a7-d6c2-4b30-bd2d-44eaf060c2f0"
      },
      "source": [
        "%cd /content/drive/MyDrive/Colab Notebooks"
      ],
      "execution_count": null,
      "outputs": [
        {
          "output_type": "stream",
          "text": [
            "/content/drive/MyDrive/Colab Notebooks\n"
          ],
          "name": "stdout"
        }
      ]
    },
    {
      "cell_type": "markdown",
      "metadata": {
        "id": "W_w5dZZry3LL"
      },
      "source": [
        "# New Section"
      ]
    },
    {
      "cell_type": "code",
      "metadata": {
        "colab": {
          "base_uri": "https://localhost:8080/"
        },
        "id": "9QMHFyPQwGF5",
        "outputId": "e242c3ac-273a-4144-9ead-aabf83bdbb9e"
      },
      "source": [
        "%cd /content/drive/MyDrive/Colab Notebooks/Movie-Recommender-in-python"
      ],
      "execution_count": null,
      "outputs": [
        {
          "output_type": "stream",
          "text": [
            "/content/drive/MyDrive/Colab Notebooks/Movie-Recommender-in-python\n"
          ],
          "name": "stdout"
        }
      ]
    },
    {
      "cell_type": "code",
      "metadata": {
        "id": "oNAwFZbtv5bK"
      },
      "source": [
        "import pandas as pd\n",
        "import numpy as np\n",
        "import seaborn as sns\n",
        "import matplotlib.pyplot as plt\n",
        "%matplotlib inline"
      ],
      "execution_count": null,
      "outputs": []
    },
    {
      "cell_type": "code",
      "metadata": {
        "id": "KMyoGhbL4UYO"
      },
      "source": [
        "coulmn_names = ['user_id', 'item_id', 'rating', 'timestamp']\n",
        "df = pd.read_csv('u.data', sep='\\t', names= coulmn_names)"
      ],
      "execution_count": null,
      "outputs": []
    },
    {
      "cell_type": "code",
      "metadata": {
        "colab": {
          "base_uri": "https://localhost:8080/",
          "height": 203
        },
        "id": "FT5fBFes4-EO",
        "outputId": "2a50f22c-752a-41d6-8ea0-da7d734dd34d"
      },
      "source": [
        "df.head()"
      ],
      "execution_count": null,
      "outputs": [
        {
          "output_type": "execute_result",
          "data": {
            "text/html": [
              "<div>\n",
              "<style scoped>\n",
              "    .dataframe tbody tr th:only-of-type {\n",
              "        vertical-align: middle;\n",
              "    }\n",
              "\n",
              "    .dataframe tbody tr th {\n",
              "        vertical-align: top;\n",
              "    }\n",
              "\n",
              "    .dataframe thead th {\n",
              "        text-align: right;\n",
              "    }\n",
              "</style>\n",
              "<table border=\"1\" class=\"dataframe\">\n",
              "  <thead>\n",
              "    <tr style=\"text-align: right;\">\n",
              "      <th></th>\n",
              "      <th>user_id</th>\n",
              "      <th>item_id</th>\n",
              "      <th>rating</th>\n",
              "      <th>timestamp</th>\n",
              "    </tr>\n",
              "  </thead>\n",
              "  <tbody>\n",
              "    <tr>\n",
              "      <th>0</th>\n",
              "      <td>0</td>\n",
              "      <td>50</td>\n",
              "      <td>5</td>\n",
              "      <td>881250949</td>\n",
              "    </tr>\n",
              "    <tr>\n",
              "      <th>1</th>\n",
              "      <td>0</td>\n",
              "      <td>172</td>\n",
              "      <td>5</td>\n",
              "      <td>881250949</td>\n",
              "    </tr>\n",
              "    <tr>\n",
              "      <th>2</th>\n",
              "      <td>0</td>\n",
              "      <td>133</td>\n",
              "      <td>1</td>\n",
              "      <td>881250949</td>\n",
              "    </tr>\n",
              "    <tr>\n",
              "      <th>3</th>\n",
              "      <td>196</td>\n",
              "      <td>242</td>\n",
              "      <td>3</td>\n",
              "      <td>881250949</td>\n",
              "    </tr>\n",
              "    <tr>\n",
              "      <th>4</th>\n",
              "      <td>186</td>\n",
              "      <td>302</td>\n",
              "      <td>3</td>\n",
              "      <td>891717742</td>\n",
              "    </tr>\n",
              "  </tbody>\n",
              "</table>\n",
              "</div>"
            ],
            "text/plain": [
              "   user_id  item_id  rating  timestamp\n",
              "0        0       50       5  881250949\n",
              "1        0      172       5  881250949\n",
              "2        0      133       1  881250949\n",
              "3      196      242       3  881250949\n",
              "4      186      302       3  891717742"
            ]
          },
          "metadata": {
            "tags": []
          },
          "execution_count": 21
        }
      ]
    },
    {
      "cell_type": "code",
      "metadata": {
        "colab": {
          "base_uri": "https://localhost:8080/",
          "height": 417
        },
        "id": "hbyi0KTQ5ULU",
        "outputId": "bef431cb-d7dc-464a-b9d5-a8e2508b794b"
      },
      "source": [
        "#Creating dataframe to map item id to movie names\n",
        "movies_titles = pd.read_csv('Movie_Id_Titles')\n",
        "movies_titles.head(100)"
      ],
      "execution_count": null,
      "outputs": [
        {
          "output_type": "execute_result",
          "data": {
            "text/html": [
              "<div>\n",
              "<style scoped>\n",
              "    .dataframe tbody tr th:only-of-type {\n",
              "        vertical-align: middle;\n",
              "    }\n",
              "\n",
              "    .dataframe tbody tr th {\n",
              "        vertical-align: top;\n",
              "    }\n",
              "\n",
              "    .dataframe thead th {\n",
              "        text-align: right;\n",
              "    }\n",
              "</style>\n",
              "<table border=\"1\" class=\"dataframe\">\n",
              "  <thead>\n",
              "    <tr style=\"text-align: right;\">\n",
              "      <th></th>\n",
              "      <th>item_id</th>\n",
              "      <th>title</th>\n",
              "    </tr>\n",
              "  </thead>\n",
              "  <tbody>\n",
              "    <tr>\n",
              "      <th>0</th>\n",
              "      <td>1</td>\n",
              "      <td>Toy Story (1995)</td>\n",
              "    </tr>\n",
              "    <tr>\n",
              "      <th>1</th>\n",
              "      <td>2</td>\n",
              "      <td>GoldenEye (1995)</td>\n",
              "    </tr>\n",
              "    <tr>\n",
              "      <th>2</th>\n",
              "      <td>3</td>\n",
              "      <td>Four Rooms (1995)</td>\n",
              "    </tr>\n",
              "    <tr>\n",
              "      <th>3</th>\n",
              "      <td>4</td>\n",
              "      <td>Get Shorty (1995)</td>\n",
              "    </tr>\n",
              "    <tr>\n",
              "      <th>4</th>\n",
              "      <td>5</td>\n",
              "      <td>Copycat (1995)</td>\n",
              "    </tr>\n",
              "    <tr>\n",
              "      <th>...</th>\n",
              "      <td>...</td>\n",
              "      <td>...</td>\n",
              "    </tr>\n",
              "    <tr>\n",
              "      <th>95</th>\n",
              "      <td>96</td>\n",
              "      <td>Terminator 2: Judgment Day (1991)</td>\n",
              "    </tr>\n",
              "    <tr>\n",
              "      <th>96</th>\n",
              "      <td>97</td>\n",
              "      <td>Dances with Wolves (1990)</td>\n",
              "    </tr>\n",
              "    <tr>\n",
              "      <th>97</th>\n",
              "      <td>98</td>\n",
              "      <td>Silence of the Lambs, The (1991)</td>\n",
              "    </tr>\n",
              "    <tr>\n",
              "      <th>98</th>\n",
              "      <td>99</td>\n",
              "      <td>Snow White and the Seven Dwarfs (1937)</td>\n",
              "    </tr>\n",
              "    <tr>\n",
              "      <th>99</th>\n",
              "      <td>100</td>\n",
              "      <td>Fargo (1996)</td>\n",
              "    </tr>\n",
              "  </tbody>\n",
              "</table>\n",
              "<p>100 rows × 2 columns</p>\n",
              "</div>"
            ],
            "text/plain": [
              "    item_id                                   title\n",
              "0         1                        Toy Story (1995)\n",
              "1         2                        GoldenEye (1995)\n",
              "2         3                       Four Rooms (1995)\n",
              "3         4                       Get Shorty (1995)\n",
              "4         5                          Copycat (1995)\n",
              "..      ...                                     ...\n",
              "95       96       Terminator 2: Judgment Day (1991)\n",
              "96       97               Dances with Wolves (1990)\n",
              "97       98        Silence of the Lambs, The (1991)\n",
              "98       99  Snow White and the Seven Dwarfs (1937)\n",
              "99      100                            Fargo (1996)\n",
              "\n",
              "[100 rows x 2 columns]"
            ]
          },
          "metadata": {
            "tags": []
          },
          "execution_count": 22
        }
      ]
    },
    {
      "cell_type": "code",
      "metadata": {
        "colab": {
          "base_uri": "https://localhost:8080/",
          "height": 203
        },
        "id": "biAhjv4B52v2",
        "outputId": "e2303431-98ac-4c9e-87bb-bea106103d6f"
      },
      "source": [
        "#Merging the two dataframes to get the correspondng name of the movie against its Item ID\n",
        "df = pd.merge(df,movies_titles, on='item_id')\n",
        "df.head()"
      ],
      "execution_count": null,
      "outputs": [
        {
          "output_type": "execute_result",
          "data": {
            "text/html": [
              "<div>\n",
              "<style scoped>\n",
              "    .dataframe tbody tr th:only-of-type {\n",
              "        vertical-align: middle;\n",
              "    }\n",
              "\n",
              "    .dataframe tbody tr th {\n",
              "        vertical-align: top;\n",
              "    }\n",
              "\n",
              "    .dataframe thead th {\n",
              "        text-align: right;\n",
              "    }\n",
              "</style>\n",
              "<table border=\"1\" class=\"dataframe\">\n",
              "  <thead>\n",
              "    <tr style=\"text-align: right;\">\n",
              "      <th></th>\n",
              "      <th>user_id</th>\n",
              "      <th>item_id</th>\n",
              "      <th>rating</th>\n",
              "      <th>timestamp</th>\n",
              "      <th>title</th>\n",
              "    </tr>\n",
              "  </thead>\n",
              "  <tbody>\n",
              "    <tr>\n",
              "      <th>0</th>\n",
              "      <td>0</td>\n",
              "      <td>50</td>\n",
              "      <td>5</td>\n",
              "      <td>881250949</td>\n",
              "      <td>Star Wars (1977)</td>\n",
              "    </tr>\n",
              "    <tr>\n",
              "      <th>1</th>\n",
              "      <td>290</td>\n",
              "      <td>50</td>\n",
              "      <td>5</td>\n",
              "      <td>880473582</td>\n",
              "      <td>Star Wars (1977)</td>\n",
              "    </tr>\n",
              "    <tr>\n",
              "      <th>2</th>\n",
              "      <td>79</td>\n",
              "      <td>50</td>\n",
              "      <td>4</td>\n",
              "      <td>891271545</td>\n",
              "      <td>Star Wars (1977)</td>\n",
              "    </tr>\n",
              "    <tr>\n",
              "      <th>3</th>\n",
              "      <td>2</td>\n",
              "      <td>50</td>\n",
              "      <td>5</td>\n",
              "      <td>888552084</td>\n",
              "      <td>Star Wars (1977)</td>\n",
              "    </tr>\n",
              "    <tr>\n",
              "      <th>4</th>\n",
              "      <td>8</td>\n",
              "      <td>50</td>\n",
              "      <td>5</td>\n",
              "      <td>879362124</td>\n",
              "      <td>Star Wars (1977)</td>\n",
              "    </tr>\n",
              "  </tbody>\n",
              "</table>\n",
              "</div>"
            ],
            "text/plain": [
              "   user_id  item_id  rating  timestamp             title\n",
              "0        0       50       5  881250949  Star Wars (1977)\n",
              "1      290       50       5  880473582  Star Wars (1977)\n",
              "2       79       50       4  891271545  Star Wars (1977)\n",
              "3        2       50       5  888552084  Star Wars (1977)\n",
              "4        8       50       5  879362124  Star Wars (1977)"
            ]
          },
          "metadata": {
            "tags": []
          },
          "execution_count": 23
        }
      ]
    },
    {
      "cell_type": "code",
      "metadata": {
        "colab": {
          "base_uri": "https://localhost:8080/"
        },
        "id": "Yo-HDxLJ8V0a",
        "outputId": "9a9b5724-d4a3-4e98-a872-6d0a49a7ea70"
      },
      "source": [
        "#Creating a dataframe with average rating and no of ratings\n",
        "df.groupby('title')['rating'].mean().sort_values(ascending=False).head()"
      ],
      "execution_count": null,
      "outputs": [
        {
          "output_type": "execute_result",
          "data": {
            "text/plain": [
              "title\n",
              "Marlene Dietrich: Shadow and Light (1996)     5.0\n",
              "Prefontaine (1997)                            5.0\n",
              "Santa with Muscles (1996)                     5.0\n",
              "Star Kid (1997)                               5.0\n",
              "Someone Else's America (1995)                 5.0\n",
              "Name: rating, dtype: float64"
            ]
          },
          "metadata": {
            "tags": []
          },
          "execution_count": 24
        }
      ]
    },
    {
      "cell_type": "code",
      "metadata": {
        "colab": {
          "base_uri": "https://localhost:8080/"
        },
        "id": "1VWrpcTD--RI",
        "outputId": "26f551ac-f53a-4770-bb90-b74005600b18"
      },
      "source": [
        "#Since the first movie above seems to be less likely to get many ratings and its possible that it was given a 5 rating by a f2-4 users prbably thats why it shows 5 rating so to get more clearity what we are doing is counting the votes of the movies\n",
        "df.groupby('title')['rating'].count().sort_values(ascending=False).head()"
      ],
      "execution_count": null,
      "outputs": [
        {
          "output_type": "execute_result",
          "data": {
            "text/plain": [
              "title\n",
              "Star Wars (1977)             584\n",
              "Contact (1997)               509\n",
              "Fargo (1996)                 508\n",
              "Return of the Jedi (1983)    507\n",
              "Liar Liar (1997)             485\n",
              "Name: rating, dtype: int64"
            ]
          },
          "metadata": {
            "tags": []
          },
          "execution_count": 25
        }
      ]
    },
    {
      "cell_type": "code",
      "metadata": {
        "colab": {
          "base_uri": "https://localhost:8080/",
          "height": 234
        },
        "id": "wgNC3B9v_3JA",
        "outputId": "c5722a22-b53a-42f3-d3ba-6b59c4ee39f2"
      },
      "source": [
        "ratings = pd.DataFrame(df.groupby('title')['rating'].mean())\n",
        "ratings.head()"
      ],
      "execution_count": null,
      "outputs": [
        {
          "output_type": "execute_result",
          "data": {
            "text/html": [
              "<div>\n",
              "<style scoped>\n",
              "    .dataframe tbody tr th:only-of-type {\n",
              "        vertical-align: middle;\n",
              "    }\n",
              "\n",
              "    .dataframe tbody tr th {\n",
              "        vertical-align: top;\n",
              "    }\n",
              "\n",
              "    .dataframe thead th {\n",
              "        text-align: right;\n",
              "    }\n",
              "</style>\n",
              "<table border=\"1\" class=\"dataframe\">\n",
              "  <thead>\n",
              "    <tr style=\"text-align: right;\">\n",
              "      <th></th>\n",
              "      <th>rating</th>\n",
              "    </tr>\n",
              "    <tr>\n",
              "      <th>title</th>\n",
              "      <th></th>\n",
              "    </tr>\n",
              "  </thead>\n",
              "  <tbody>\n",
              "    <tr>\n",
              "      <th>'Til There Was You (1997)</th>\n",
              "      <td>2.333333</td>\n",
              "    </tr>\n",
              "    <tr>\n",
              "      <th>1-900 (1994)</th>\n",
              "      <td>2.600000</td>\n",
              "    </tr>\n",
              "    <tr>\n",
              "      <th>101 Dalmatians (1996)</th>\n",
              "      <td>2.908257</td>\n",
              "    </tr>\n",
              "    <tr>\n",
              "      <th>12 Angry Men (1957)</th>\n",
              "      <td>4.344000</td>\n",
              "    </tr>\n",
              "    <tr>\n",
              "      <th>187 (1997)</th>\n",
              "      <td>3.024390</td>\n",
              "    </tr>\n",
              "  </tbody>\n",
              "</table>\n",
              "</div>"
            ],
            "text/plain": [
              "                             rating\n",
              "title                              \n",
              "'Til There Was You (1997)  2.333333\n",
              "1-900 (1994)               2.600000\n",
              "101 Dalmatians (1996)      2.908257\n",
              "12 Angry Men (1957)        4.344000\n",
              "187 (1997)                 3.024390"
            ]
          },
          "metadata": {
            "tags": []
          },
          "execution_count": 26
        }
      ]
    },
    {
      "cell_type": "code",
      "metadata": {
        "colab": {
          "base_uri": "https://localhost:8080/",
          "height": 234
        },
        "id": "yJDhLncrAh1S",
        "outputId": "ae539715-c8f9-47d0-f2b6-76d6abf0a123"
      },
      "source": [
        "ratings['number of ratings'] = pd.DataFrame(df.groupby('title')['rating'].count())\n",
        "ratings.head()"
      ],
      "execution_count": null,
      "outputs": [
        {
          "output_type": "execute_result",
          "data": {
            "text/html": [
              "<div>\n",
              "<style scoped>\n",
              "    .dataframe tbody tr th:only-of-type {\n",
              "        vertical-align: middle;\n",
              "    }\n",
              "\n",
              "    .dataframe tbody tr th {\n",
              "        vertical-align: top;\n",
              "    }\n",
              "\n",
              "    .dataframe thead th {\n",
              "        text-align: right;\n",
              "    }\n",
              "</style>\n",
              "<table border=\"1\" class=\"dataframe\">\n",
              "  <thead>\n",
              "    <tr style=\"text-align: right;\">\n",
              "      <th></th>\n",
              "      <th>rating</th>\n",
              "      <th>number of ratings</th>\n",
              "    </tr>\n",
              "    <tr>\n",
              "      <th>title</th>\n",
              "      <th></th>\n",
              "      <th></th>\n",
              "    </tr>\n",
              "  </thead>\n",
              "  <tbody>\n",
              "    <tr>\n",
              "      <th>'Til There Was You (1997)</th>\n",
              "      <td>2.333333</td>\n",
              "      <td>9</td>\n",
              "    </tr>\n",
              "    <tr>\n",
              "      <th>1-900 (1994)</th>\n",
              "      <td>2.600000</td>\n",
              "      <td>5</td>\n",
              "    </tr>\n",
              "    <tr>\n",
              "      <th>101 Dalmatians (1996)</th>\n",
              "      <td>2.908257</td>\n",
              "      <td>109</td>\n",
              "    </tr>\n",
              "    <tr>\n",
              "      <th>12 Angry Men (1957)</th>\n",
              "      <td>4.344000</td>\n",
              "      <td>125</td>\n",
              "    </tr>\n",
              "    <tr>\n",
              "      <th>187 (1997)</th>\n",
              "      <td>3.024390</td>\n",
              "      <td>41</td>\n",
              "    </tr>\n",
              "  </tbody>\n",
              "</table>\n",
              "</div>"
            ],
            "text/plain": [
              "                             rating  number of ratings\n",
              "title                                                 \n",
              "'Til There Was You (1997)  2.333333                  9\n",
              "1-900 (1994)               2.600000                  5\n",
              "101 Dalmatians (1996)      2.908257                109\n",
              "12 Angry Men (1957)        4.344000                125\n",
              "187 (1997)                 3.024390                 41"
            ]
          },
          "metadata": {
            "tags": []
          },
          "execution_count": 27
        }
      ]
    },
    {
      "cell_type": "code",
      "metadata": {
        "colab": {
          "base_uri": "https://localhost:8080/",
          "height": 282
        },
        "id": "AFYUf7FuB1zz",
        "outputId": "4f401b1b-80f5-45e0-bb59-3b9ebeef875d"
      },
      "source": [
        "plt.figure(figsize=(10,4))\n",
        "ratings['number of ratings'].hist(bins=70)"
      ],
      "execution_count": null,
      "outputs": [
        {
          "output_type": "execute_result",
          "data": {
            "text/plain": [
              "<matplotlib.axes._subplots.AxesSubplot at 0x7fd888501c90>"
            ]
          },
          "metadata": {
            "tags": []
          },
          "execution_count": 28
        },
        {
          "output_type": "display_data",
          "data": {
            "image/png": "[encoded data removed]",
            "text/plain": [
              "<Figure size 720x288 with 1 Axes>"
            ]
          },
          "metadata": {
            "tags": [],
            "needs_background": "light"
          }
        }
      ]
    },
    {
      "cell_type": "code",
      "metadata": {
        "colab": {
          "base_uri": "https://localhost:8080/",
          "height": 282
        },
        "id": "qp_cTECCFd0s",
        "outputId": "e2d5c98d-4ee7-497c-9ea6-78436098297b"
      },
      "source": [
        "plt.figure(figsize=(10,4))\n",
        "ratings['rating'].hist(bins=70)"
      ],
      "execution_count": null,
      "outputs": [
        {
          "output_type": "execute_result",
          "data": {
            "text/plain": [
              "<matplotlib.axes._subplots.AxesSubplot at 0x7fd88835fbd0>"
            ]
          },
          "metadata": {
            "tags": []
          },
          "execution_count": 29
        },
        {
          "output_type": "display_data",
          "data": {
            "image/png": "[encoded data removed]",
            "text/plain": [
              "<Figure size 720x288 with 1 Axes>"
            ]
          },
          "metadata": {
            "tags": [],
            "needs_background": "light"
          }
        }
      ]
    },
    {
      "cell_type": "code",
      "metadata": {
        "colab": {
          "base_uri": "https://localhost:8080/",
          "height": 458
        },
        "id": "_7NbStiMF2TS",
        "outputId": "e9bb80a0-f202-4816-a09d-4ab99be0d243"
      },
      "source": [
        "sns.jointplot(x='rating', y='number of ratings',data=ratings,alpha=0.5)\n"
      ],
      "execution_count": null,
      "outputs": [
        {
          "output_type": "execute_result",
          "data": {
            "text/plain": [
              "<seaborn.axisgrid.JointGrid at 0x7fd887dbdf10>"
            ]
          },
          "metadata": {
            "tags": []
          },
          "execution_count": 30
        },
        {
          "output_type": "display_data",
          "data": {
            "image/png": "[encoded data removed]",
            "text/plain": [
              "<Figure size 432x432 with 3 Axes>"
            ]
          },
          "metadata": {
            "tags": [],
            "needs_background": "light"
          }
        }
      ]
    },
    {
      "cell_type": "code",
      "metadata": {
        "colab": {
          "base_uri": "https://localhost:8080/",
          "height": 383
        },
        "id": "dhSXntAbBypq",
        "outputId": "fac4e522-6180-4505-ecae-94344d7dd1f9"
      },
      "source": [
        "#Creating user matrix factorization\n",
        "moviemat = df.pivot_table(index='user_id', columns='title', values='rating')\n",
        "moviemat.head()"
      ],
      "execution_count": null,
      "outputs": [
        {
          "output_type": "execute_result",
          "data": {
            "text/html": [
              "<div>\n",
              "<style scoped>\n",
              "    .dataframe tbody tr th:only-of-type {\n",
              "        vertical-align: middle;\n",
              "    }\n",
              "\n",
              "    .dataframe tbody tr th {\n",
              "        vertical-align: top;\n",
              "    }\n",
              "\n",
              "    .dataframe thead th {\n",
              "        text-align: right;\n",
              "    }\n",
              "</style>\n",
              "<table border=\"1\" class=\"dataframe\">\n",
              "  <thead>\n",
              "    <tr style=\"text-align: right;\">\n",
              "      <th>title</th>\n",
              "      <th>'Til There Was You (1997)</th>\n",
              "      <th>1-900 (1994)</th>\n",
              "      <th>101 Dalmatians (1996)</th>\n",
              "      <th>12 Angry Men (1957)</th>\n",
              "      <th>187 (1997)</th>\n",
              "      <th>2 Days in the Valley (1996)</th>\n",
              "      <th>20,000 Leagues Under the Sea (1954)</th>\n",
              "      <th>2001: A Space Odyssey (1968)</th>\n",
              "      <th>3 Ninjas: High Noon At Mega Mountain (1998)</th>\n",
              "      <th>39 Steps, The (1935)</th>\n",
              "      <th>8 1/2 (1963)</th>\n",
              "      <th>8 Heads in a Duffel Bag (1997)</th>\n",
              "      <th>8 Seconds (1994)</th>\n",
              "      <th>A Chef in Love (1996)</th>\n",
              "      <th>Above the Rim (1994)</th>\n",
              "      <th>Absolute Power (1997)</th>\n",
              "      <th>Abyss, The (1989)</th>\n",
              "      <th>Ace Ventura: Pet Detective (1994)</th>\n",
              "      <th>Ace Ventura: When Nature Calls (1995)</th>\n",
              "      <th>Across the Sea of Time (1995)</th>\n",
              "      <th>Addams Family Values (1993)</th>\n",
              "      <th>Addicted to Love (1997)</th>\n",
              "      <th>Addiction, The (1995)</th>\n",
              "      <th>Adventures of Pinocchio, The (1996)</th>\n",
              "      <th>Adventures of Priscilla, Queen of the Desert, The (1994)</th>\n",
              "      <th>Adventures of Robin Hood, The (1938)</th>\n",
              "      <th>Affair to Remember, An (1957)</th>\n",
              "      <th>African Queen, The (1951)</th>\n",
              "      <th>Afterglow (1997)</th>\n",
              "      <th>Age of Innocence, The (1993)</th>\n",
              "      <th>Aiqing wansui (1994)</th>\n",
              "      <th>Air Bud (1997)</th>\n",
              "      <th>Air Force One (1997)</th>\n",
              "      <th>Air Up There, The (1994)</th>\n",
              "      <th>Airheads (1994)</th>\n",
              "      <th>Akira (1988)</th>\n",
              "      <th>Aladdin (1992)</th>\n",
              "      <th>Aladdin and the King of Thieves (1996)</th>\n",
              "      <th>Alaska (1996)</th>\n",
              "      <th>Albino Alligator (1996)</th>\n",
              "      <th>...</th>\n",
              "      <th>Whole Wide World, The (1996)</th>\n",
              "      <th>Widows' Peak (1994)</th>\n",
              "      <th>Wife, The (1995)</th>\n",
              "      <th>Wild America (1997)</th>\n",
              "      <th>Wild Bill (1995)</th>\n",
              "      <th>Wild Bunch, The (1969)</th>\n",
              "      <th>Wild Reeds (1994)</th>\n",
              "      <th>Wild Things (1998)</th>\n",
              "      <th>William Shakespeare's Romeo and Juliet (1996)</th>\n",
              "      <th>Willy Wonka and the Chocolate Factory (1971)</th>\n",
              "      <th>Window to Paris (1994)</th>\n",
              "      <th>Wings of Courage (1995)</th>\n",
              "      <th>Wings of Desire (1987)</th>\n",
              "      <th>Wings of the Dove, The (1997)</th>\n",
              "      <th>Winnie the Pooh and the Blustery Day (1968)</th>\n",
              "      <th>Winter Guest, The (1997)</th>\n",
              "      <th>Wishmaster (1997)</th>\n",
              "      <th>With Honors (1994)</th>\n",
              "      <th>Withnail and I (1987)</th>\n",
              "      <th>Witness (1985)</th>\n",
              "      <th>Wizard of Oz, The (1939)</th>\n",
              "      <th>Wolf (1994)</th>\n",
              "      <th>Woman in Question, The (1950)</th>\n",
              "      <th>Women, The (1939)</th>\n",
              "      <th>Wonderful, Horrible Life of Leni Riefenstahl, The (1993)</th>\n",
              "      <th>Wonderland (1997)</th>\n",
              "      <th>Wooden Man's Bride, The (Wu Kui) (1994)</th>\n",
              "      <th>World of Apu, The (Apur Sansar) (1959)</th>\n",
              "      <th>Wrong Trousers, The (1993)</th>\n",
              "      <th>Wyatt Earp (1994)</th>\n",
              "      <th>Yankee Zulu (1994)</th>\n",
              "      <th>Year of the Horse (1997)</th>\n",
              "      <th>You So Crazy (1994)</th>\n",
              "      <th>Young Frankenstein (1974)</th>\n",
              "      <th>Young Guns (1988)</th>\n",
              "      <th>Young Guns II (1990)</th>\n",
              "      <th>Young Poisoner's Handbook, The (1995)</th>\n",
              "      <th>Zeus and Roxanne (1997)</th>\n",
              "      <th>unknown</th>\n",
              "      <th>Á köldum klaka (Cold Fever) (1994)</th>\n",
              "    </tr>\n",
              "    <tr>\n",
              "      <th>user_id</th>\n",
              "      <th></th>\n",
              "      <th></th>\n",
              "      <th></th>\n",
              "      <th></th>\n",
              "      <th></th>\n",
              "      <th></th>\n",
              "      <th></th>\n",
              "      <th></th>\n",
              "      <th></th>\n",
              "      <th></th>\n",
              "      <th></th>\n",
              "      <th></th>\n",
              "      <th></th>\n",
              "      <th></th>\n",
              "      <th></th>\n",
              "      <th></th>\n",
              "      <th></th>\n",
              "      <th></th>\n",
              "      <th></th>\n",
              "      <th></th>\n",
              "      <th></th>\n",
              "      <th></th>\n",
              "      <th></th>\n",
              "      <th></th>\n",
              "      <th></th>\n",
              "      <th></th>\n",
              "      <th></th>\n",
              "      <th></th>\n",
              "      <th></th>\n",
              "      <th></th>\n",
              "      <th></th>\n",
              "      <th></th>\n",
              "      <th></th>\n",
              "      <th></th>\n",
              "      <th></th>\n",
              "      <th></th>\n",
              "      <th></th>\n",
              "      <th></th>\n",
              "      <th></th>\n",
              "      <th></th>\n",
              "      <th></th>\n",
              "      <th></th>\n",
              "      <th></th>\n",
              "      <th></th>\n",
              "      <th></th>\n",
              "      <th></th>\n",
              "      <th></th>\n",
              "      <th></th>\n",
              "      <th></th>\n",
              "      <th></th>\n",
              "      <th></th>\n",
              "      <th></th>\n",
              "      <th></th>\n",
              "      <th></th>\n",
              "      <th></th>\n",
              "      <th></th>\n",
              "      <th></th>\n",
              "      <th></th>\n",
              "      <th></th>\n",
              "      <th></th>\n",
              "      <th></th>\n",
              "      <th></th>\n",
              "      <th></th>\n",
              "      <th></th>\n",
              "      <th></th>\n",
              "      <th></th>\n",
              "      <th></th>\n",
              "      <th></th>\n",
              "      <th></th>\n",
              "      <th></th>\n",
              "      <th></th>\n",
              "      <th></th>\n",
              "      <th></th>\n",
              "      <th></th>\n",
              "      <th></th>\n",
              "      <th></th>\n",
              "      <th></th>\n",
              "      <th></th>\n",
              "      <th></th>\n",
              "      <th></th>\n",
              "      <th></th>\n",
              "    </tr>\n",
              "  </thead>\n",
              "  <tbody>\n",
              "    <tr>\n",
              "      <th>0</th>\n",
              "      <td>NaN</td>\n",
              "      <td>NaN</td>\n",
              "      <td>NaN</td>\n",
              "      <td>NaN</td>\n",
              "      <td>NaN</td>\n",
              "      <td>NaN</td>\n",
              "      <td>NaN</td>\n",
              "      <td>NaN</td>\n",
              "      <td>NaN</td>\n",
              "      <td>NaN</td>\n",
              "      <td>NaN</td>\n",
              "      <td>NaN</td>\n",
              "      <td>NaN</td>\n",
              "      <td>NaN</td>\n",
              "      <td>NaN</td>\n",
              "      <td>NaN</td>\n",
              "      <td>NaN</td>\n",
              "      <td>NaN</td>\n",
              "      <td>NaN</td>\n",
              "      <td>NaN</td>\n",
              "      <td>NaN</td>\n",
              "      <td>NaN</td>\n",
              "      <td>NaN</td>\n",
              "      <td>NaN</td>\n",
              "      <td>NaN</td>\n",
              "      <td>NaN</td>\n",
              "      <td>NaN</td>\n",
              "      <td>NaN</td>\n",
              "      <td>NaN</td>\n",
              "      <td>NaN</td>\n",
              "      <td>NaN</td>\n",
              "      <td>NaN</td>\n",
              "      <td>NaN</td>\n",
              "      <td>NaN</td>\n",
              "      <td>NaN</td>\n",
              "      <td>NaN</td>\n",
              "      <td>NaN</td>\n",
              "      <td>NaN</td>\n",
              "      <td>NaN</td>\n",
              "      <td>NaN</td>\n",
              "      <td>...</td>\n",
              "      <td>NaN</td>\n",
              "      <td>NaN</td>\n",
              "      <td>NaN</td>\n",
              "      <td>NaN</td>\n",
              "      <td>NaN</td>\n",
              "      <td>NaN</td>\n",
              "      <td>NaN</td>\n",
              "      <td>NaN</td>\n",
              "      <td>NaN</td>\n",
              "      <td>NaN</td>\n",
              "      <td>NaN</td>\n",
              "      <td>NaN</td>\n",
              "      <td>NaN</td>\n",
              "      <td>NaN</td>\n",
              "      <td>NaN</td>\n",
              "      <td>NaN</td>\n",
              "      <td>NaN</td>\n",
              "      <td>NaN</td>\n",
              "      <td>NaN</td>\n",
              "      <td>NaN</td>\n",
              "      <td>NaN</td>\n",
              "      <td>NaN</td>\n",
              "      <td>NaN</td>\n",
              "      <td>NaN</td>\n",
              "      <td>NaN</td>\n",
              "      <td>NaN</td>\n",
              "      <td>NaN</td>\n",
              "      <td>NaN</td>\n",
              "      <td>NaN</td>\n",
              "      <td>NaN</td>\n",
              "      <td>NaN</td>\n",
              "      <td>NaN</td>\n",
              "      <td>NaN</td>\n",
              "      <td>NaN</td>\n",
              "      <td>NaN</td>\n",
              "      <td>NaN</td>\n",
              "      <td>NaN</td>\n",
              "      <td>NaN</td>\n",
              "      <td>NaN</td>\n",
              "      <td>NaN</td>\n",
              "    </tr>\n",
              "    <tr>\n",
              "      <th>1</th>\n",
              "      <td>NaN</td>\n",
              "      <td>NaN</td>\n",
              "      <td>2.0</td>\n",
              "      <td>5.0</td>\n",
              "      <td>NaN</td>\n",
              "      <td>NaN</td>\n",
              "      <td>3.0</td>\n",
              "      <td>4.0</td>\n",
              "      <td>NaN</td>\n",
              "      <td>NaN</td>\n",
              "      <td>NaN</td>\n",
              "      <td>NaN</td>\n",
              "      <td>NaN</td>\n",
              "      <td>NaN</td>\n",
              "      <td>NaN</td>\n",
              "      <td>NaN</td>\n",
              "      <td>3.0</td>\n",
              "      <td>3.0</td>\n",
              "      <td>NaN</td>\n",
              "      <td>NaN</td>\n",
              "      <td>NaN</td>\n",
              "      <td>NaN</td>\n",
              "      <td>NaN</td>\n",
              "      <td>NaN</td>\n",
              "      <td>NaN</td>\n",
              "      <td>NaN</td>\n",
              "      <td>NaN</td>\n",
              "      <td>NaN</td>\n",
              "      <td>NaN</td>\n",
              "      <td>NaN</td>\n",
              "      <td>NaN</td>\n",
              "      <td>1.0</td>\n",
              "      <td>NaN</td>\n",
              "      <td>NaN</td>\n",
              "      <td>NaN</td>\n",
              "      <td>4.0</td>\n",
              "      <td>4.0</td>\n",
              "      <td>NaN</td>\n",
              "      <td>NaN</td>\n",
              "      <td>NaN</td>\n",
              "      <td>...</td>\n",
              "      <td>NaN</td>\n",
              "      <td>NaN</td>\n",
              "      <td>NaN</td>\n",
              "      <td>NaN</td>\n",
              "      <td>NaN</td>\n",
              "      <td>NaN</td>\n",
              "      <td>NaN</td>\n",
              "      <td>NaN</td>\n",
              "      <td>NaN</td>\n",
              "      <td>4.0</td>\n",
              "      <td>NaN</td>\n",
              "      <td>NaN</td>\n",
              "      <td>NaN</td>\n",
              "      <td>NaN</td>\n",
              "      <td>NaN</td>\n",
              "      <td>NaN</td>\n",
              "      <td>NaN</td>\n",
              "      <td>NaN</td>\n",
              "      <td>NaN</td>\n",
              "      <td>NaN</td>\n",
              "      <td>4.0</td>\n",
              "      <td>NaN</td>\n",
              "      <td>NaN</td>\n",
              "      <td>NaN</td>\n",
              "      <td>NaN</td>\n",
              "      <td>NaN</td>\n",
              "      <td>NaN</td>\n",
              "      <td>NaN</td>\n",
              "      <td>5.0</td>\n",
              "      <td>NaN</td>\n",
              "      <td>NaN</td>\n",
              "      <td>NaN</td>\n",
              "      <td>NaN</td>\n",
              "      <td>5.0</td>\n",
              "      <td>3.0</td>\n",
              "      <td>NaN</td>\n",
              "      <td>NaN</td>\n",
              "      <td>NaN</td>\n",
              "      <td>4.0</td>\n",
              "      <td>NaN</td>\n",
              "    </tr>\n",
              "    <tr>\n",
              "      <th>2</th>\n",
              "      <td>NaN</td>\n",
              "      <td>NaN</td>\n",
              "      <td>NaN</td>\n",
              "      <td>NaN</td>\n",
              "      <td>NaN</td>\n",
              "      <td>NaN</td>\n",
              "      <td>NaN</td>\n",
              "      <td>NaN</td>\n",
              "      <td>1.0</td>\n",
              "      <td>NaN</td>\n",
              "      <td>NaN</td>\n",
              "      <td>NaN</td>\n",
              "      <td>NaN</td>\n",
              "      <td>NaN</td>\n",
              "      <td>NaN</td>\n",
              "      <td>3.0</td>\n",
              "      <td>NaN</td>\n",
              "      <td>NaN</td>\n",
              "      <td>NaN</td>\n",
              "      <td>NaN</td>\n",
              "      <td>NaN</td>\n",
              "      <td>NaN</td>\n",
              "      <td>NaN</td>\n",
              "      <td>NaN</td>\n",
              "      <td>NaN</td>\n",
              "      <td>NaN</td>\n",
              "      <td>NaN</td>\n",
              "      <td>NaN</td>\n",
              "      <td>NaN</td>\n",
              "      <td>NaN</td>\n",
              "      <td>NaN</td>\n",
              "      <td>NaN</td>\n",
              "      <td>4.0</td>\n",
              "      <td>NaN</td>\n",
              "      <td>NaN</td>\n",
              "      <td>NaN</td>\n",
              "      <td>NaN</td>\n",
              "      <td>NaN</td>\n",
              "      <td>NaN</td>\n",
              "      <td>NaN</td>\n",
              "      <td>...</td>\n",
              "      <td>NaN</td>\n",
              "      <td>NaN</td>\n",
              "      <td>NaN</td>\n",
              "      <td>NaN</td>\n",
              "      <td>NaN</td>\n",
              "      <td>NaN</td>\n",
              "      <td>NaN</td>\n",
              "      <td>NaN</td>\n",
              "      <td>NaN</td>\n",
              "      <td>NaN</td>\n",
              "      <td>NaN</td>\n",
              "      <td>NaN</td>\n",
              "      <td>NaN</td>\n",
              "      <td>5.0</td>\n",
              "      <td>NaN</td>\n",
              "      <td>NaN</td>\n",
              "      <td>NaN</td>\n",
              "      <td>NaN</td>\n",
              "      <td>NaN</td>\n",
              "      <td>NaN</td>\n",
              "      <td>NaN</td>\n",
              "      <td>NaN</td>\n",
              "      <td>NaN</td>\n",
              "      <td>NaN</td>\n",
              "      <td>NaN</td>\n",
              "      <td>NaN</td>\n",
              "      <td>NaN</td>\n",
              "      <td>NaN</td>\n",
              "      <td>NaN</td>\n",
              "      <td>NaN</td>\n",
              "      <td>NaN</td>\n",
              "      <td>NaN</td>\n",
              "      <td>NaN</td>\n",
              "      <td>NaN</td>\n",
              "      <td>NaN</td>\n",
              "      <td>NaN</td>\n",
              "      <td>NaN</td>\n",
              "      <td>NaN</td>\n",
              "      <td>NaN</td>\n",
              "      <td>NaN</td>\n",
              "    </tr>\n",
              "    <tr>\n",
              "      <th>3</th>\n",
              "      <td>NaN</td>\n",
              "      <td>NaN</td>\n",
              "      <td>NaN</td>\n",
              "      <td>NaN</td>\n",
              "      <td>2.0</td>\n",
              "      <td>NaN</td>\n",
              "      <td>NaN</td>\n",
              "      <td>NaN</td>\n",
              "      <td>NaN</td>\n",
              "      <td>NaN</td>\n",
              "      <td>NaN</td>\n",
              "      <td>NaN</td>\n",
              "      <td>NaN</td>\n",
              "      <td>NaN</td>\n",
              "      <td>NaN</td>\n",
              "      <td>NaN</td>\n",
              "      <td>NaN</td>\n",
              "      <td>NaN</td>\n",
              "      <td>NaN</td>\n",
              "      <td>NaN</td>\n",
              "      <td>NaN</td>\n",
              "      <td>NaN</td>\n",
              "      <td>NaN</td>\n",
              "      <td>NaN</td>\n",
              "      <td>NaN</td>\n",
              "      <td>NaN</td>\n",
              "      <td>NaN</td>\n",
              "      <td>NaN</td>\n",
              "      <td>NaN</td>\n",
              "      <td>NaN</td>\n",
              "      <td>NaN</td>\n",
              "      <td>NaN</td>\n",
              "      <td>2.0</td>\n",
              "      <td>NaN</td>\n",
              "      <td>NaN</td>\n",
              "      <td>NaN</td>\n",
              "      <td>NaN</td>\n",
              "      <td>NaN</td>\n",
              "      <td>NaN</td>\n",
              "      <td>NaN</td>\n",
              "      <td>...</td>\n",
              "      <td>NaN</td>\n",
              "      <td>NaN</td>\n",
              "      <td>NaN</td>\n",
              "      <td>NaN</td>\n",
              "      <td>NaN</td>\n",
              "      <td>NaN</td>\n",
              "      <td>NaN</td>\n",
              "      <td>NaN</td>\n",
              "      <td>NaN</td>\n",
              "      <td>NaN</td>\n",
              "      <td>NaN</td>\n",
              "      <td>NaN</td>\n",
              "      <td>NaN</td>\n",
              "      <td>NaN</td>\n",
              "      <td>NaN</td>\n",
              "      <td>NaN</td>\n",
              "      <td>NaN</td>\n",
              "      <td>NaN</td>\n",
              "      <td>NaN</td>\n",
              "      <td>NaN</td>\n",
              "      <td>NaN</td>\n",
              "      <td>NaN</td>\n",
              "      <td>NaN</td>\n",
              "      <td>NaN</td>\n",
              "      <td>NaN</td>\n",
              "      <td>NaN</td>\n",
              "      <td>NaN</td>\n",
              "      <td>NaN</td>\n",
              "      <td>NaN</td>\n",
              "      <td>NaN</td>\n",
              "      <td>NaN</td>\n",
              "      <td>NaN</td>\n",
              "      <td>NaN</td>\n",
              "      <td>NaN</td>\n",
              "      <td>NaN</td>\n",
              "      <td>NaN</td>\n",
              "      <td>NaN</td>\n",
              "      <td>NaN</td>\n",
              "      <td>NaN</td>\n",
              "      <td>NaN</td>\n",
              "    </tr>\n",
              "    <tr>\n",
              "      <th>4</th>\n",
              "      <td>NaN</td>\n",
              "      <td>NaN</td>\n",
              "      <td>NaN</td>\n",
              "      <td>NaN</td>\n",
              "      <td>NaN</td>\n",
              "      <td>NaN</td>\n",
              "      <td>NaN</td>\n",
              "      <td>NaN</td>\n",
              "      <td>NaN</td>\n",
              "      <td>NaN</td>\n",
              "      <td>NaN</td>\n",
              "      <td>NaN</td>\n",
              "      <td>NaN</td>\n",
              "      <td>NaN</td>\n",
              "      <td>NaN</td>\n",
              "      <td>NaN</td>\n",
              "      <td>NaN</td>\n",
              "      <td>NaN</td>\n",
              "      <td>NaN</td>\n",
              "      <td>NaN</td>\n",
              "      <td>NaN</td>\n",
              "      <td>NaN</td>\n",
              "      <td>NaN</td>\n",
              "      <td>NaN</td>\n",
              "      <td>NaN</td>\n",
              "      <td>NaN</td>\n",
              "      <td>NaN</td>\n",
              "      <td>NaN</td>\n",
              "      <td>NaN</td>\n",
              "      <td>NaN</td>\n",
              "      <td>NaN</td>\n",
              "      <td>NaN</td>\n",
              "      <td>5.0</td>\n",
              "      <td>NaN</td>\n",
              "      <td>NaN</td>\n",
              "      <td>NaN</td>\n",
              "      <td>NaN</td>\n",
              "      <td>NaN</td>\n",
              "      <td>NaN</td>\n",
              "      <td>NaN</td>\n",
              "      <td>...</td>\n",
              "      <td>NaN</td>\n",
              "      <td>NaN</td>\n",
              "      <td>NaN</td>\n",
              "      <td>NaN</td>\n",
              "      <td>NaN</td>\n",
              "      <td>NaN</td>\n",
              "      <td>NaN</td>\n",
              "      <td>NaN</td>\n",
              "      <td>NaN</td>\n",
              "      <td>NaN</td>\n",
              "      <td>NaN</td>\n",
              "      <td>NaN</td>\n",
              "      <td>NaN</td>\n",
              "      <td>NaN</td>\n",
              "      <td>NaN</td>\n",
              "      <td>NaN</td>\n",
              "      <td>NaN</td>\n",
              "      <td>NaN</td>\n",
              "      <td>NaN</td>\n",
              "      <td>NaN</td>\n",
              "      <td>NaN</td>\n",
              "      <td>NaN</td>\n",
              "      <td>NaN</td>\n",
              "      <td>NaN</td>\n",
              "      <td>NaN</td>\n",
              "      <td>5.0</td>\n",
              "      <td>NaN</td>\n",
              "      <td>NaN</td>\n",
              "      <td>NaN</td>\n",
              "      <td>NaN</td>\n",
              "      <td>NaN</td>\n",
              "      <td>NaN</td>\n",
              "      <td>NaN</td>\n",
              "      <td>NaN</td>\n",
              "      <td>NaN</td>\n",
              "      <td>NaN</td>\n",
              "      <td>NaN</td>\n",
              "      <td>NaN</td>\n",
              "      <td>NaN</td>\n",
              "      <td>NaN</td>\n",
              "    </tr>\n",
              "  </tbody>\n",
              "</table>\n",
              "<p>5 rows × 1664 columns</p>\n",
              "</div>"
            ],
            "text/plain": [
              "title    'Til There Was You (1997)  ...  Á köldum klaka (Cold Fever) (1994)\n",
              "user_id                             ...                                    \n",
              "0                              NaN  ...                                 NaN\n",
              "1                              NaN  ...                                 NaN\n",
              "2                              NaN  ...                                 NaN\n",
              "3                              NaN  ...                                 NaN\n",
              "4                              NaN  ...                                 NaN\n",
              "\n",
              "[5 rows x 1664 columns]"
            ]
          },
          "metadata": {
            "tags": []
          },
          "execution_count": 31
        }
      ]
    },
    {
      "cell_type": "code",
      "metadata": {
        "colab": {
          "base_uri": "https://localhost:8080/",
          "height": 388
        },
        "id": "CG18jearD4ef",
        "outputId": "b4837b64-ace1-4f03-9bd6-4ad7c48c1811"
      },
      "source": [
        "ratings.sort_values('number of ratings', ascending=False).head(10)"
      ],
      "execution_count": null,
      "outputs": [
        {
          "output_type": "execute_result",
          "data": {
            "text/html": [
              "<div>\n",
              "<style scoped>\n",
              "    .dataframe tbody tr th:only-of-type {\n",
              "        vertical-align: middle;\n",
              "    }\n",
              "\n",
              "    .dataframe tbody tr th {\n",
              "        vertical-align: top;\n",
              "    }\n",
              "\n",
              "    .dataframe thead th {\n",
              "        text-align: right;\n",
              "    }\n",
              "</style>\n",
              "<table border=\"1\" class=\"dataframe\">\n",
              "  <thead>\n",
              "    <tr style=\"text-align: right;\">\n",
              "      <th></th>\n",
              "      <th>rating</th>\n",
              "      <th>number of ratings</th>\n",
              "    </tr>\n",
              "    <tr>\n",
              "      <th>title</th>\n",
              "      <th></th>\n",
              "      <th></th>\n",
              "    </tr>\n",
              "  </thead>\n",
              "  <tbody>\n",
              "    <tr>\n",
              "      <th>Star Wars (1977)</th>\n",
              "      <td>4.359589</td>\n",
              "      <td>584</td>\n",
              "    </tr>\n",
              "    <tr>\n",
              "      <th>Contact (1997)</th>\n",
              "      <td>3.803536</td>\n",
              "      <td>509</td>\n",
              "    </tr>\n",
              "    <tr>\n",
              "      <th>Fargo (1996)</th>\n",
              "      <td>4.155512</td>\n",
              "      <td>508</td>\n",
              "    </tr>\n",
              "    <tr>\n",
              "      <th>Return of the Jedi (1983)</th>\n",
              "      <td>4.007890</td>\n",
              "      <td>507</td>\n",
              "    </tr>\n",
              "    <tr>\n",
              "      <th>Liar Liar (1997)</th>\n",
              "      <td>3.156701</td>\n",
              "      <td>485</td>\n",
              "    </tr>\n",
              "    <tr>\n",
              "      <th>English Patient, The (1996)</th>\n",
              "      <td>3.656965</td>\n",
              "      <td>481</td>\n",
              "    </tr>\n",
              "    <tr>\n",
              "      <th>Scream (1996)</th>\n",
              "      <td>3.441423</td>\n",
              "      <td>478</td>\n",
              "    </tr>\n",
              "    <tr>\n",
              "      <th>Toy Story (1995)</th>\n",
              "      <td>3.878319</td>\n",
              "      <td>452</td>\n",
              "    </tr>\n",
              "    <tr>\n",
              "      <th>Air Force One (1997)</th>\n",
              "      <td>3.631090</td>\n",
              "      <td>431</td>\n",
              "    </tr>\n",
              "    <tr>\n",
              "      <th>Independence Day (ID4) (1996)</th>\n",
              "      <td>3.438228</td>\n",
              "      <td>429</td>\n",
              "    </tr>\n",
              "  </tbody>\n",
              "</table>\n",
              "</div>"
            ],
            "text/plain": [
              "                                 rating  number of ratings\n",
              "title                                                     \n",
              "Star Wars (1977)               4.359589                584\n",
              "Contact (1997)                 3.803536                509\n",
              "Fargo (1996)                   4.155512                508\n",
              "Return of the Jedi (1983)      4.007890                507\n",
              "Liar Liar (1997)               3.156701                485\n",
              "English Patient, The (1996)    3.656965                481\n",
              "Scream (1996)                  3.441423                478\n",
              "Toy Story (1995)               3.878319                452\n",
              "Air Force One (1997)           3.631090                431\n",
              "Independence Day (ID4) (1996)  3.438228                429"
            ]
          },
          "metadata": {
            "tags": []
          },
          "execution_count": 32
        }
      ]
    },
    {
      "cell_type": "code",
      "metadata": {
        "colab": {
          "base_uri": "https://localhost:8080/"
        },
        "id": "SxJch5YoEn3D",
        "outputId": "c909778b-ffe4-459c-eb63-9990011c010c"
      },
      "source": [
        "starwars_user_ratings= moviemat['Star Wars (1977)']\n",
        "liarliar_user_ratings= moviemat['Liar Liar (1997)']\n",
        "starwars_user_ratings.head()"
      ],
      "execution_count": null,
      "outputs": [
        {
          "output_type": "execute_result",
          "data": {
            "text/plain": [
              "user_id\n",
              "0    5.0\n",
              "1    5.0\n",
              "2    5.0\n",
              "3    NaN\n",
              "4    5.0\n",
              "Name: Star Wars (1977), dtype: float64"
            ]
          },
          "metadata": {
            "tags": []
          },
          "execution_count": 33
        }
      ]
    },
    {
      "cell_type": "code",
      "metadata": {
        "colab": {
          "base_uri": "https://localhost:8080/"
        },
        "id": "8MwBgyqfFjXn",
        "outputId": "13745208-0c2c-4f6f-e3e5-d73c1e5e2e00"
      },
      "source": [
        "#Now using corrwith method to get the correlation between two pandas series\n",
        "similar_to_starwars=moviemat.corrwith(starwars_user_ratings)\n",
        "similar_to_liarliar= moviemat.corrwith(liarliar_user_ratings)"
      ],
      "execution_count": null,
      "outputs": [
        {
          "output_type": "stream",
          "text": [
            "/usr/local/lib/python3.7/dist-packages/numpy/lib/function_base.py:2551: RuntimeWarning: Degrees of freedom <= 0 for slice\n",
            "  c = cov(x, y, rowvar)\n",
            "/usr/local/lib/python3.7/dist-packages/numpy/lib/function_base.py:2480: RuntimeWarning: divide by zero encountered in true_divide\n",
            "  c *= np.true_divide(1, fact)\n"
          ],
          "name": "stderr"
        }
      ]
    },
    {
      "cell_type": "code",
      "metadata": {
        "colab": {
          "base_uri": "https://localhost:8080/",
          "height": 234
        },
        "id": "BfjpJ0MlifB4",
        "outputId": "0dd91cc7-3a8a-4980-c7c6-ad30bdf9b9c2"
      },
      "source": [
        "#now try to clean this by removing NaN valuesa nd using dataframe instead of series\n",
        "corr_starwars=pd.DataFrame(similar_to_starwars,columns=['Correlation'])\n",
        "corr_starwars.dropna(inplace=True)\n",
        "corr_starwars.head()"
      ],
      "execution_count": null,
      "outputs": [
        {
          "output_type": "execute_result",
          "data": {
            "text/html": [
              "<div>\n",
              "<style scoped>\n",
              "    .dataframe tbody tr th:only-of-type {\n",
              "        vertical-align: middle;\n",
              "    }\n",
              "\n",
              "    .dataframe tbody tr th {\n",
              "        vertical-align: top;\n",
              "    }\n",
              "\n",
              "    .dataframe thead th {\n",
              "        text-align: right;\n",
              "    }\n",
              "</style>\n",
              "<table border=\"1\" class=\"dataframe\">\n",
              "  <thead>\n",
              "    <tr style=\"text-align: right;\">\n",
              "      <th></th>\n",
              "      <th>Correlation</th>\n",
              "    </tr>\n",
              "    <tr>\n",
              "      <th>title</th>\n",
              "      <th></th>\n",
              "    </tr>\n",
              "  </thead>\n",
              "  <tbody>\n",
              "    <tr>\n",
              "      <th>'Til There Was You (1997)</th>\n",
              "      <td>0.872872</td>\n",
              "    </tr>\n",
              "    <tr>\n",
              "      <th>1-900 (1994)</th>\n",
              "      <td>-0.645497</td>\n",
              "    </tr>\n",
              "    <tr>\n",
              "      <th>101 Dalmatians (1996)</th>\n",
              "      <td>0.211132</td>\n",
              "    </tr>\n",
              "    <tr>\n",
              "      <th>12 Angry Men (1957)</th>\n",
              "      <td>0.184289</td>\n",
              "    </tr>\n",
              "    <tr>\n",
              "      <th>187 (1997)</th>\n",
              "      <td>0.027398</td>\n",
              "    </tr>\n",
              "  </tbody>\n",
              "</table>\n",
              "</div>"
            ],
            "text/plain": [
              "                           Correlation\n",
              "title                                 \n",
              "'Til There Was You (1997)     0.872872\n",
              "1-900 (1994)                 -0.645497\n",
              "101 Dalmatians (1996)         0.211132\n",
              "12 Angry Men (1957)           0.184289\n",
              "187 (1997)                    0.027398"
            ]
          },
          "metadata": {
            "tags": []
          },
          "execution_count": 36
        }
      ]
    },
    {
      "cell_type": "code",
      "metadata": {
        "colab": {
          "base_uri": "https://localhost:8080/",
          "height": 234
        },
        "id": "J961fNhDj2kc",
        "outputId": "e9d55b91-8c8a-48ef-f1a0-10b950d78db3"
      },
      "source": [
        "corr_starwars.sort_values('Correlation',ascending=False).head()"
      ],
      "execution_count": null,
      "outputs": [
        {
          "output_type": "execute_result",
          "data": {
            "text/html": [
              "<div>\n",
              "<style scoped>\n",
              "    .dataframe tbody tr th:only-of-type {\n",
              "        vertical-align: middle;\n",
              "    }\n",
              "\n",
              "    .dataframe tbody tr th {\n",
              "        vertical-align: top;\n",
              "    }\n",
              "\n",
              "    .dataframe thead th {\n",
              "        text-align: right;\n",
              "    }\n",
              "</style>\n",
              "<table border=\"1\" class=\"dataframe\">\n",
              "  <thead>\n",
              "    <tr style=\"text-align: right;\">\n",
              "      <th></th>\n",
              "      <th>Correlation</th>\n",
              "    </tr>\n",
              "    <tr>\n",
              "      <th>title</th>\n",
              "      <th></th>\n",
              "    </tr>\n",
              "  </thead>\n",
              "  <tbody>\n",
              "    <tr>\n",
              "      <th>Hollow Reed (1996)</th>\n",
              "      <td>1.0</td>\n",
              "    </tr>\n",
              "    <tr>\n",
              "      <th>Commandments (1997)</th>\n",
              "      <td>1.0</td>\n",
              "    </tr>\n",
              "    <tr>\n",
              "      <th>Cosi (1996)</th>\n",
              "      <td>1.0</td>\n",
              "    </tr>\n",
              "    <tr>\n",
              "      <th>No Escape (1994)</th>\n",
              "      <td>1.0</td>\n",
              "    </tr>\n",
              "    <tr>\n",
              "      <th>Stripes (1981)</th>\n",
              "      <td>1.0</td>\n",
              "    </tr>\n",
              "  </tbody>\n",
              "</table>\n",
              "</div>"
            ],
            "text/plain": [
              "                     Correlation\n",
              "title                           \n",
              "Hollow Reed (1996)           1.0\n",
              "Commandments (1997)          1.0\n",
              "Cosi (1996)                  1.0\n",
              "No Escape (1994)             1.0\n",
              "Stripes (1981)               1.0"
            ]
          },
          "metadata": {
            "tags": []
          },
          "execution_count": 37
        }
      ]
    },
    {
      "cell_type": "code",
      "metadata": {
        "colab": {
          "base_uri": "https://localhost:8080/",
          "height": 234
        },
        "id": "eOvv74YvkTpz",
        "outputId": "d270ed6c-83d6-4a3a-fe40-9bbff2eaa1c0"
      },
      "source": [
        "corr_starwars= corr_starwars.join(ratings['number of ratings'])\n",
        "corr_starwars.head()"
      ],
      "execution_count": null,
      "outputs": [
        {
          "output_type": "execute_result",
          "data": {
            "text/html": [
              "<div>\n",
              "<style scoped>\n",
              "    .dataframe tbody tr th:only-of-type {\n",
              "        vertical-align: middle;\n",
              "    }\n",
              "\n",
              "    .dataframe tbody tr th {\n",
              "        vertical-align: top;\n",
              "    }\n",
              "\n",
              "    .dataframe thead th {\n",
              "        text-align: right;\n",
              "    }\n",
              "</style>\n",
              "<table border=\"1\" class=\"dataframe\">\n",
              "  <thead>\n",
              "    <tr style=\"text-align: right;\">\n",
              "      <th></th>\n",
              "      <th>Correlation</th>\n",
              "      <th>number of ratings</th>\n",
              "    </tr>\n",
              "    <tr>\n",
              "      <th>title</th>\n",
              "      <th></th>\n",
              "      <th></th>\n",
              "    </tr>\n",
              "  </thead>\n",
              "  <tbody>\n",
              "    <tr>\n",
              "      <th>'Til There Was You (1997)</th>\n",
              "      <td>0.872872</td>\n",
              "      <td>9</td>\n",
              "    </tr>\n",
              "    <tr>\n",
              "      <th>1-900 (1994)</th>\n",
              "      <td>-0.645497</td>\n",
              "      <td>5</td>\n",
              "    </tr>\n",
              "    <tr>\n",
              "      <th>101 Dalmatians (1996)</th>\n",
              "      <td>0.211132</td>\n",
              "      <td>109</td>\n",
              "    </tr>\n",
              "    <tr>\n",
              "      <th>12 Angry Men (1957)</th>\n",
              "      <td>0.184289</td>\n",
              "      <td>125</td>\n",
              "    </tr>\n",
              "    <tr>\n",
              "      <th>187 (1997)</th>\n",
              "      <td>0.027398</td>\n",
              "      <td>41</td>\n",
              "    </tr>\n",
              "  </tbody>\n",
              "</table>\n",
              "</div>"
            ],
            "text/plain": [
              "                           Correlation  number of ratings\n",
              "title                                                    \n",
              "'Til There Was You (1997)     0.872872                  9\n",
              "1-900 (1994)                 -0.645497                  5\n",
              "101 Dalmatians (1996)         0.211132                109\n",
              "12 Angry Men (1957)           0.184289                125\n",
              "187 (1997)                    0.027398                 41"
            ]
          },
          "metadata": {
            "tags": []
          },
          "execution_count": 39
        }
      ]
    },
    {
      "cell_type": "code",
      "metadata": {
        "colab": {
          "base_uri": "https://localhost:8080/",
          "height": 234
        },
        "id": "JJpbSqIzk1xp",
        "outputId": "33124bff-f67a-4136-d895-0a97ac63780b"
      },
      "source": [
        "corr_starwars[corr_starwars['number of ratings']>100].sort_values('Correlation',ascending=False).head()"
      ],
      "execution_count": null,
      "outputs": [
        {
          "output_type": "execute_result",
          "data": {
            "text/html": [
              "<div>\n",
              "<style scoped>\n",
              "    .dataframe tbody tr th:only-of-type {\n",
              "        vertical-align: middle;\n",
              "    }\n",
              "\n",
              "    .dataframe tbody tr th {\n",
              "        vertical-align: top;\n",
              "    }\n",
              "\n",
              "    .dataframe thead th {\n",
              "        text-align: right;\n",
              "    }\n",
              "</style>\n",
              "<table border=\"1\" class=\"dataframe\">\n",
              "  <thead>\n",
              "    <tr style=\"text-align: right;\">\n",
              "      <th></th>\n",
              "      <th>Correlation</th>\n",
              "      <th>number of ratings</th>\n",
              "    </tr>\n",
              "    <tr>\n",
              "      <th>title</th>\n",
              "      <th></th>\n",
              "      <th></th>\n",
              "    </tr>\n",
              "  </thead>\n",
              "  <tbody>\n",
              "    <tr>\n",
              "      <th>Star Wars (1977)</th>\n",
              "      <td>1.000000</td>\n",
              "      <td>584</td>\n",
              "    </tr>\n",
              "    <tr>\n",
              "      <th>Empire Strikes Back, The (1980)</th>\n",
              "      <td>0.748353</td>\n",
              "      <td>368</td>\n",
              "    </tr>\n",
              "    <tr>\n",
              "      <th>Return of the Jedi (1983)</th>\n",
              "      <td>0.672556</td>\n",
              "      <td>507</td>\n",
              "    </tr>\n",
              "    <tr>\n",
              "      <th>Raiders of the Lost Ark (1981)</th>\n",
              "      <td>0.536117</td>\n",
              "      <td>420</td>\n",
              "    </tr>\n",
              "    <tr>\n",
              "      <th>Austin Powers: International Man of Mystery (1997)</th>\n",
              "      <td>0.377433</td>\n",
              "      <td>130</td>\n",
              "    </tr>\n",
              "  </tbody>\n",
              "</table>\n",
              "</div>"
            ],
            "text/plain": [
              "                                                    Correlation  number of ratings\n",
              "title                                                                             \n",
              "Star Wars (1977)                                       1.000000                584\n",
              "Empire Strikes Back, The (1980)                        0.748353                368\n",
              "Return of the Jedi (1983)                              0.672556                507\n",
              "Raiders of the Lost Ark (1981)                         0.536117                420\n",
              "Austin Powers: International Man of Mystery (1997)     0.377433                130"
            ]
          },
          "metadata": {
            "tags": []
          },
          "execution_count": 40
        }
      ]
    },
    {
      "cell_type": "code",
      "metadata": {
        "colab": {
          "base_uri": "https://localhost:8080/",
          "height": 234
        },
        "id": "btjooobwlTpy",
        "outputId": "13b23c5a-a034-41dc-c4c1-84cefdaa53d8"
      },
      "source": [
        "corr_lairlair=pd.DataFrame(similar_to_liarliar,columns=['Correlation'])\n",
        "corr_lairlair.dropna(inplace=True)\n",
        "corr_lairlair.head()\n",
        "corr_lairlair= corr_lairlair.join(ratings['number of ratings'])\n",
        "corr_lairlair.head()\n",
        "corr_lairlair[corr_lairlair['number of ratings']>100].sort_values('Correlation',ascending=False).head()"
      ],
      "execution_count": null,
      "outputs": [
        {
          "output_type": "execute_result",
          "data": {
            "text/html": [
              "<div>\n",
              "<style scoped>\n",
              "    .dataframe tbody tr th:only-of-type {\n",
              "        vertical-align: middle;\n",
              "    }\n",
              "\n",
              "    .dataframe tbody tr th {\n",
              "        vertical-align: top;\n",
              "    }\n",
              "\n",
              "    .dataframe thead th {\n",
              "        text-align: right;\n",
              "    }\n",
              "</style>\n",
              "<table border=\"1\" class=\"dataframe\">\n",
              "  <thead>\n",
              "    <tr style=\"text-align: right;\">\n",
              "      <th></th>\n",
              "      <th>Correlation</th>\n",
              "      <th>number of ratings</th>\n",
              "    </tr>\n",
              "    <tr>\n",
              "      <th>title</th>\n",
              "      <th></th>\n",
              "      <th></th>\n",
              "    </tr>\n",
              "  </thead>\n",
              "  <tbody>\n",
              "    <tr>\n",
              "      <th>Liar Liar (1997)</th>\n",
              "      <td>1.000000</td>\n",
              "      <td>485</td>\n",
              "    </tr>\n",
              "    <tr>\n",
              "      <th>Batman Forever (1995)</th>\n",
              "      <td>0.516968</td>\n",
              "      <td>114</td>\n",
              "    </tr>\n",
              "    <tr>\n",
              "      <th>Mask, The (1994)</th>\n",
              "      <td>0.484650</td>\n",
              "      <td>129</td>\n",
              "    </tr>\n",
              "    <tr>\n",
              "      <th>Down Periscope (1996)</th>\n",
              "      <td>0.472681</td>\n",
              "      <td>101</td>\n",
              "    </tr>\n",
              "    <tr>\n",
              "      <th>Con Air (1997)</th>\n",
              "      <td>0.469828</td>\n",
              "      <td>137</td>\n",
              "    </tr>\n",
              "  </tbody>\n",
              "</table>\n",
              "</div>"
            ],
            "text/plain": [
              "                       Correlation  number of ratings\n",
              "title                                                \n",
              "Liar Liar (1997)          1.000000                485\n",
              "Batman Forever (1995)     0.516968                114\n",
              "Mask, The (1994)          0.484650                129\n",
              "Down Periscope (1996)     0.472681                101\n",
              "Con Air (1997)            0.469828                137"
            ]
          },
          "metadata": {
            "tags": []
          },
          "execution_count": 41
        }
      ]
    }
  ]
}