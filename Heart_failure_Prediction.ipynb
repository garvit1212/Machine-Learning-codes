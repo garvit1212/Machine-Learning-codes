{
  "nbformat": 4,
  "nbformat_minor": 0,
  "metadata": {
    "kernelspec": {
      "display_name": "Python 3",
      "language": "python",
      "name": "python3"
    },
    "language_info": {
      "codemirror_mode": {
        "name": "ipython",
        "version": 3
      },
      "file_extension": ".py",
      "mimetype": "text/x-python",
      "name": "python",
      "nbconvert_exporter": "python",
      "pygments_lexer": "ipython3",
      "version": "3.8.5"
    },
    "colab": {
      "name": "Heart_failure_Prediction.ipynb",
      "provenance": [],
      "include_colab_link": true
    }
  },
  "cells": [
    {
      "cell_type": "markdown",
      "metadata": {
        "id": "view-in-github",
        "colab_type": "text"
      },
      "source": [
        "<a href=\"https://colab.research.google.com/github/garvit1212/Machine-Learning-codes/blob/main/Heart_failure_Prediction.ipynb\" target=\"_parent\"><img src=\"https://colab.research.google.com/assets/colab-badge.svg\" alt=\"Open In Colab\"/></a>"
      ]
    },
    {
      "cell_type": "code",
      "metadata": {
        "id": "QAatovNHHtIv"
      },
      "source": [
        "#Load Libraries\n",
        "import numpy as np\n",
        "import pandas as pd\n",
        "import matplotlib.pyplot as plt\n",
        "%matplotlib inline\n",
        "import seaborn as sns"
      ],
      "execution_count": null,
      "outputs": []
    },
    {
      "cell_type": "code",
      "metadata": {
        "id": "0KNNW8qrHtIz",
        "outputId": "7cbaabf2-1b29-4314-cef1-e24b9b94050a"
      },
      "source": [
        "#Load data set\n",
        "df= pd.read_csv(r'C:\\Users\\garvi\\OneDrive\\Documents\\Durham college\\SEMESTER_2\\DATA 2204 STATISTICAL PRED MODELLING\\WEEK 4\\heartfailure.csv')\n",
        "df.head()"
      ],
      "execution_count": null,
      "outputs": [
        {
          "data": {
            "text/html": [
              "<div>\n",
              "<style scoped>\n",
              "    .dataframe tbody tr th:only-of-type {\n",
              "        vertical-align: middle;\n",
              "    }\n",
              "\n",
              "    .dataframe tbody tr th {\n",
              "        vertical-align: top;\n",
              "    }\n",
              "\n",
              "    .dataframe thead th {\n",
              "        text-align: right;\n",
              "    }\n",
              "</style>\n",
              "<table border=\"1\" class=\"dataframe\">\n",
              "  <thead>\n",
              "    <tr style=\"text-align: right;\">\n",
              "      <th></th>\n",
              "      <th>age</th>\n",
              "      <th>anaemia</th>\n",
              "      <th>creatinine_phosphokinase</th>\n",
              "      <th>diabetes</th>\n",
              "      <th>ejection_fraction</th>\n",
              "      <th>high_blood_pressure</th>\n",
              "      <th>platelets</th>\n",
              "      <th>serum_creatinine</th>\n",
              "      <th>serum_sodium</th>\n",
              "      <th>sex</th>\n",
              "      <th>smoking</th>\n",
              "      <th>time</th>\n",
              "      <th>DEATH_EVENT</th>\n",
              "    </tr>\n",
              "  </thead>\n",
              "  <tbody>\n",
              "    <tr>\n",
              "      <th>0</th>\n",
              "      <td>75.0</td>\n",
              "      <td>0</td>\n",
              "      <td>582</td>\n",
              "      <td>0</td>\n",
              "      <td>20</td>\n",
              "      <td>1</td>\n",
              "      <td>265000.00</td>\n",
              "      <td>1.9</td>\n",
              "      <td>130</td>\n",
              "      <td>1</td>\n",
              "      <td>0</td>\n",
              "      <td>4</td>\n",
              "      <td>1</td>\n",
              "    </tr>\n",
              "    <tr>\n",
              "      <th>1</th>\n",
              "      <td>55.0</td>\n",
              "      <td>0</td>\n",
              "      <td>7861</td>\n",
              "      <td>0</td>\n",
              "      <td>38</td>\n",
              "      <td>0</td>\n",
              "      <td>263358.03</td>\n",
              "      <td>1.1</td>\n",
              "      <td>136</td>\n",
              "      <td>1</td>\n",
              "      <td>0</td>\n",
              "      <td>6</td>\n",
              "      <td>1</td>\n",
              "    </tr>\n",
              "    <tr>\n",
              "      <th>2</th>\n",
              "      <td>65.0</td>\n",
              "      <td>0</td>\n",
              "      <td>146</td>\n",
              "      <td>0</td>\n",
              "      <td>20</td>\n",
              "      <td>0</td>\n",
              "      <td>162000.00</td>\n",
              "      <td>1.3</td>\n",
              "      <td>129</td>\n",
              "      <td>1</td>\n",
              "      <td>1</td>\n",
              "      <td>7</td>\n",
              "      <td>1</td>\n",
              "    </tr>\n",
              "    <tr>\n",
              "      <th>3</th>\n",
              "      <td>50.0</td>\n",
              "      <td>1</td>\n",
              "      <td>111</td>\n",
              "      <td>0</td>\n",
              "      <td>20</td>\n",
              "      <td>0</td>\n",
              "      <td>210000.00</td>\n",
              "      <td>1.9</td>\n",
              "      <td>137</td>\n",
              "      <td>1</td>\n",
              "      <td>0</td>\n",
              "      <td>7</td>\n",
              "      <td>1</td>\n",
              "    </tr>\n",
              "    <tr>\n",
              "      <th>4</th>\n",
              "      <td>65.0</td>\n",
              "      <td>1</td>\n",
              "      <td>160</td>\n",
              "      <td>1</td>\n",
              "      <td>20</td>\n",
              "      <td>0</td>\n",
              "      <td>327000.00</td>\n",
              "      <td>2.7</td>\n",
              "      <td>116</td>\n",
              "      <td>0</td>\n",
              "      <td>0</td>\n",
              "      <td>8</td>\n",
              "      <td>1</td>\n",
              "    </tr>\n",
              "  </tbody>\n",
              "</table>\n",
              "</div>"
            ],
            "text/plain": [
              "    age  anaemia  creatinine_phosphokinase  diabetes  ejection_fraction  \\\n",
              "0  75.0        0                       582         0                 20   \n",
              "1  55.0        0                      7861         0                 38   \n",
              "2  65.0        0                       146         0                 20   \n",
              "3  50.0        1                       111         0                 20   \n",
              "4  65.0        1                       160         1                 20   \n",
              "\n",
              "   high_blood_pressure  platelets  serum_creatinine  serum_sodium  sex  \\\n",
              "0                    1  265000.00               1.9           130    1   \n",
              "1                    0  263358.03               1.1           136    1   \n",
              "2                    0  162000.00               1.3           129    1   \n",
              "3                    0  210000.00               1.9           137    1   \n",
              "4                    0  327000.00               2.7           116    0   \n",
              "\n",
              "   smoking  time  DEATH_EVENT  \n",
              "0        0     4            1  \n",
              "1        0     6            1  \n",
              "2        1     7            1  \n",
              "3        0     7            1  \n",
              "4        0     8            1  "
            ]
          },
          "execution_count": 2,
          "metadata": {},
          "output_type": "execute_result"
        }
      ]
    },
    {
      "cell_type": "code",
      "metadata": {
        "id": "RV6KL1tzHtI0",
        "outputId": "b490d759-9f2c-47ff-a45e-12508f70996e"
      },
      "source": [
        "#Show Key Statistics\n",
        "df.describe()"
      ],
      "execution_count": null,
      "outputs": [
        {
          "data": {
            "text/html": [
              "<div>\n",
              "<style scoped>\n",
              "    .dataframe tbody tr th:only-of-type {\n",
              "        vertical-align: middle;\n",
              "    }\n",
              "\n",
              "    .dataframe tbody tr th {\n",
              "        vertical-align: top;\n",
              "    }\n",
              "\n",
              "    .dataframe thead th {\n",
              "        text-align: right;\n",
              "    }\n",
              "</style>\n",
              "<table border=\"1\" class=\"dataframe\">\n",
              "  <thead>\n",
              "    <tr style=\"text-align: right;\">\n",
              "      <th></th>\n",
              "      <th>age</th>\n",
              "      <th>anaemia</th>\n",
              "      <th>creatinine_phosphokinase</th>\n",
              "      <th>diabetes</th>\n",
              "      <th>ejection_fraction</th>\n",
              "      <th>high_blood_pressure</th>\n",
              "      <th>platelets</th>\n",
              "      <th>serum_creatinine</th>\n",
              "      <th>serum_sodium</th>\n",
              "      <th>sex</th>\n",
              "      <th>smoking</th>\n",
              "      <th>time</th>\n",
              "      <th>DEATH_EVENT</th>\n",
              "    </tr>\n",
              "  </thead>\n",
              "  <tbody>\n",
              "    <tr>\n",
              "      <th>count</th>\n",
              "      <td>299.000000</td>\n",
              "      <td>299.000000</td>\n",
              "      <td>299.000000</td>\n",
              "      <td>299.000000</td>\n",
              "      <td>299.000000</td>\n",
              "      <td>299.000000</td>\n",
              "      <td>299.000000</td>\n",
              "      <td>299.00000</td>\n",
              "      <td>299.000000</td>\n",
              "      <td>299.000000</td>\n",
              "      <td>299.00000</td>\n",
              "      <td>299.000000</td>\n",
              "      <td>299.00000</td>\n",
              "    </tr>\n",
              "    <tr>\n",
              "      <th>mean</th>\n",
              "      <td>60.833893</td>\n",
              "      <td>0.431438</td>\n",
              "      <td>581.839465</td>\n",
              "      <td>0.418060</td>\n",
              "      <td>38.083612</td>\n",
              "      <td>0.351171</td>\n",
              "      <td>263358.029264</td>\n",
              "      <td>1.39388</td>\n",
              "      <td>136.625418</td>\n",
              "      <td>0.648829</td>\n",
              "      <td>0.32107</td>\n",
              "      <td>130.260870</td>\n",
              "      <td>0.32107</td>\n",
              "    </tr>\n",
              "    <tr>\n",
              "      <th>std</th>\n",
              "      <td>11.894809</td>\n",
              "      <td>0.496107</td>\n",
              "      <td>970.287881</td>\n",
              "      <td>0.494067</td>\n",
              "      <td>11.834841</td>\n",
              "      <td>0.478136</td>\n",
              "      <td>97804.236869</td>\n",
              "      <td>1.03451</td>\n",
              "      <td>4.412477</td>\n",
              "      <td>0.478136</td>\n",
              "      <td>0.46767</td>\n",
              "      <td>77.614208</td>\n",
              "      <td>0.46767</td>\n",
              "    </tr>\n",
              "    <tr>\n",
              "      <th>min</th>\n",
              "      <td>40.000000</td>\n",
              "      <td>0.000000</td>\n",
              "      <td>23.000000</td>\n",
              "      <td>0.000000</td>\n",
              "      <td>14.000000</td>\n",
              "      <td>0.000000</td>\n",
              "      <td>25100.000000</td>\n",
              "      <td>0.50000</td>\n",
              "      <td>113.000000</td>\n",
              "      <td>0.000000</td>\n",
              "      <td>0.00000</td>\n",
              "      <td>4.000000</td>\n",
              "      <td>0.00000</td>\n",
              "    </tr>\n",
              "    <tr>\n",
              "      <th>25%</th>\n",
              "      <td>51.000000</td>\n",
              "      <td>0.000000</td>\n",
              "      <td>116.500000</td>\n",
              "      <td>0.000000</td>\n",
              "      <td>30.000000</td>\n",
              "      <td>0.000000</td>\n",
              "      <td>212500.000000</td>\n",
              "      <td>0.90000</td>\n",
              "      <td>134.000000</td>\n",
              "      <td>0.000000</td>\n",
              "      <td>0.00000</td>\n",
              "      <td>73.000000</td>\n",
              "      <td>0.00000</td>\n",
              "    </tr>\n",
              "    <tr>\n",
              "      <th>50%</th>\n",
              "      <td>60.000000</td>\n",
              "      <td>0.000000</td>\n",
              "      <td>250.000000</td>\n",
              "      <td>0.000000</td>\n",
              "      <td>38.000000</td>\n",
              "      <td>0.000000</td>\n",
              "      <td>262000.000000</td>\n",
              "      <td>1.10000</td>\n",
              "      <td>137.000000</td>\n",
              "      <td>1.000000</td>\n",
              "      <td>0.00000</td>\n",
              "      <td>115.000000</td>\n",
              "      <td>0.00000</td>\n",
              "    </tr>\n",
              "    <tr>\n",
              "      <th>75%</th>\n",
              "      <td>70.000000</td>\n",
              "      <td>1.000000</td>\n",
              "      <td>582.000000</td>\n",
              "      <td>1.000000</td>\n",
              "      <td>45.000000</td>\n",
              "      <td>1.000000</td>\n",
              "      <td>303500.000000</td>\n",
              "      <td>1.40000</td>\n",
              "      <td>140.000000</td>\n",
              "      <td>1.000000</td>\n",
              "      <td>1.00000</td>\n",
              "      <td>203.000000</td>\n",
              "      <td>1.00000</td>\n",
              "    </tr>\n",
              "    <tr>\n",
              "      <th>max</th>\n",
              "      <td>95.000000</td>\n",
              "      <td>1.000000</td>\n",
              "      <td>7861.000000</td>\n",
              "      <td>1.000000</td>\n",
              "      <td>80.000000</td>\n",
              "      <td>1.000000</td>\n",
              "      <td>850000.000000</td>\n",
              "      <td>9.40000</td>\n",
              "      <td>148.000000</td>\n",
              "      <td>1.000000</td>\n",
              "      <td>1.00000</td>\n",
              "      <td>285.000000</td>\n",
              "      <td>1.00000</td>\n",
              "    </tr>\n",
              "  </tbody>\n",
              "</table>\n",
              "</div>"
            ],
            "text/plain": [
              "              age     anaemia  creatinine_phosphokinase    diabetes  \\\n",
              "count  299.000000  299.000000                299.000000  299.000000   \n",
              "mean    60.833893    0.431438                581.839465    0.418060   \n",
              "std     11.894809    0.496107                970.287881    0.494067   \n",
              "min     40.000000    0.000000                 23.000000    0.000000   \n",
              "25%     51.000000    0.000000                116.500000    0.000000   \n",
              "50%     60.000000    0.000000                250.000000    0.000000   \n",
              "75%     70.000000    1.000000                582.000000    1.000000   \n",
              "max     95.000000    1.000000               7861.000000    1.000000   \n",
              "\n",
              "       ejection_fraction  high_blood_pressure      platelets  \\\n",
              "count         299.000000           299.000000     299.000000   \n",
              "mean           38.083612             0.351171  263358.029264   \n",
              "std            11.834841             0.478136   97804.236869   \n",
              "min            14.000000             0.000000   25100.000000   \n",
              "25%            30.000000             0.000000  212500.000000   \n",
              "50%            38.000000             0.000000  262000.000000   \n",
              "75%            45.000000             1.000000  303500.000000   \n",
              "max            80.000000             1.000000  850000.000000   \n",
              "\n",
              "       serum_creatinine  serum_sodium         sex    smoking        time  \\\n",
              "count         299.00000    299.000000  299.000000  299.00000  299.000000   \n",
              "mean            1.39388    136.625418    0.648829    0.32107  130.260870   \n",
              "std             1.03451      4.412477    0.478136    0.46767   77.614208   \n",
              "min             0.50000    113.000000    0.000000    0.00000    4.000000   \n",
              "25%             0.90000    134.000000    0.000000    0.00000   73.000000   \n",
              "50%             1.10000    137.000000    1.000000    0.00000  115.000000   \n",
              "75%             1.40000    140.000000    1.000000    1.00000  203.000000   \n",
              "max             9.40000    148.000000    1.000000    1.00000  285.000000   \n",
              "\n",
              "       DEATH_EVENT  \n",
              "count    299.00000  \n",
              "mean       0.32107  \n",
              "std        0.46767  \n",
              "min        0.00000  \n",
              "25%        0.00000  \n",
              "50%        0.00000  \n",
              "75%        1.00000  \n",
              "max        1.00000  "
            ]
          },
          "execution_count": 3,
          "metadata": {},
          "output_type": "execute_result"
        }
      ]
    },
    {
      "cell_type": "code",
      "metadata": {
        "id": "68nh2GTwHtI1",
        "outputId": "362c6d95-46ee-4575-d91e-b09f12b6f7d9",
        "colab": {
          "referenced_widgets": [
            "80a8e78d01bb45aea8af5984d45e8039",
            "f99a9b9ab20d45df9f45794315d2c9be",
            "0ae96c8f86fa4dc0a89bd373a89949c2",
            "b3797d9dd2d9489bad50bfbff7d0168e"
          ]
        }
      },
      "source": [
        "#Create Profile Report\n",
        "    \n",
        "#Importing package\n",
        "import pandas_profiling as pp\n",
        "from IPython.display import IFrame\n",
        " \n",
        "# Profile Report\n",
        "HeartfailReport = pp.ProfileReport(df)\n",
        "HeartfailReport.to_file('HearfailReportW4.html')\n",
        "display(IFrame('HearfailReportW4.html', width=900, height=350))"
      ],
      "execution_count": null,
      "outputs": [
        {
          "data": {
            "application/vnd.jupyter.widget-view+json": {
              "model_id": "80a8e78d01bb45aea8af5984d45e8039",
              "version_major": 2,
              "version_minor": 0
            },
            "text/plain": [
              "HBox(children=(HTML(value='Summarize dataset'), FloatProgress(value=0.0, max=26.0), HTML(value='')))"
            ]
          },
          "metadata": {},
          "output_type": "display_data"
        },
        {
          "name": "stdout",
          "output_type": "stream",
          "text": [
            "\n"
          ]
        },
        {
          "data": {
            "application/vnd.jupyter.widget-view+json": {
              "model_id": "f99a9b9ab20d45df9f45794315d2c9be",
              "version_major": 2,
              "version_minor": 0
            },
            "text/plain": [
              "HBox(children=(HTML(value='Generate report structure'), FloatProgress(value=0.0, max=1.0), HTML(value='')))"
            ]
          },
          "metadata": {},
          "output_type": "display_data"
        },
        {
          "name": "stdout",
          "output_type": "stream",
          "text": [
            "\n"
          ]
        },
        {
          "data": {
            "application/vnd.jupyter.widget-view+json": {
              "model_id": "0ae96c8f86fa4dc0a89bd373a89949c2",
              "version_major": 2,
              "version_minor": 0
            },
            "text/plain": [
              "HBox(children=(HTML(value='Render HTML'), FloatProgress(value=0.0, max=1.0), HTML(value='')))"
            ]
          },
          "metadata": {},
          "output_type": "display_data"
        },
        {
          "name": "stdout",
          "output_type": "stream",
          "text": [
            "\n"
          ]
        },
        {
          "data": {
            "application/vnd.jupyter.widget-view+json": {
              "model_id": "b3797d9dd2d9489bad50bfbff7d0168e",
              "version_major": 2,
              "version_minor": 0
            },
            "text/plain": [
              "HBox(children=(HTML(value='Export report to file'), FloatProgress(value=0.0, max=1.0), HTML(value='')))"
            ]
          },
          "metadata": {},
          "output_type": "display_data"
        },
        {
          "name": "stdout",
          "output_type": "stream",
          "text": [
            "\n"
          ]
        },
        {
          "data": {
            "text/html": [
              "\n",
              "        <iframe\n",
              "            width=\"900\"\n",
              "            height=\"350\"\n",
              "            src=\"HearfailReportW4.html\"\n",
              "            frameborder=\"0\"\n",
              "            allowfullscreen\n",
              "        ></iframe>\n",
              "        "
            ],
            "text/plain": [
              "<IPython.lib.display.IFrame at 0x1708fff8bb0>"
            ]
          },
          "metadata": {},
          "output_type": "display_data"
        }
      ]
    },
    {
      "cell_type": "code",
      "metadata": {
        "id": "qaQzZJLHHtI2",
        "outputId": "c610439d-5579-4f8e-c356-74430b998ab3"
      },
      "source": [
        "#Class Balance\n",
        "print('Class Split')\n",
        "print(df['DEATH_EVENT'].value_counts())\n",
        "df['DEATH_EVENT'].value_counts().plot.bar(figsize=(10,4),title='Classes Split for Dataset')\n",
        "plt.xlabel('Classes')\n",
        "plt.ylabel('Count')"
      ],
      "execution_count": null,
      "outputs": [
        {
          "name": "stdout",
          "output_type": "stream",
          "text": [
            "Class Split\n",
            "0    203\n",
            "1     96\n",
            "Name: DEATH_EVENT, dtype: int64\n"
          ]
        },
        {
          "data": {
            "text/plain": [
              "Text(0, 0.5, 'Count')"
            ]
          },
          "execution_count": 5,
          "metadata": {},
          "output_type": "execute_result"
        },
        {
          "data": {
            "image/png": "[encoded data removed]",
            "text/plain": [
              "<Figure size 720x288 with 1 Axes>"
            ]
          },
          "metadata": {
            "needs_background": "light"
          },
          "output_type": "display_data"
        }
      ]
    },
    {
      "cell_type": "code",
      "metadata": {
        "id": "iWt3VfQEHtI3",
        "outputId": "f166463c-6434-4214-8fab-596ba7ca5739"
      },
      "source": [
        "#Find Independent Column Correlations\n",
        "def correlation(dataset,threshold):\n",
        "    col_corr= [] # List of correlated columns\n",
        "    corr_matrix=dataset.corr() #finding correlation between columns\n",
        "    for i in range (len(corr_matrix.columns)): #Number of columns\n",
        "        for j in range (i):\n",
        "            if abs(corr_matrix.iloc[i,j])>threshold: #checking correlation between columns\n",
        "                colName=(corr_matrix.columns[i], corr_matrix.columns[j]) #getting correlated columns\n",
        "                col_corr.append(colName) #adding correlated column name\n",
        "    return col_corr #returning set of column names\n",
        "col=correlation(df,0.8)\n",
        "print('Correlated columns @ 0.8:', col)"
      ],
      "execution_count": null,
      "outputs": [
        {
          "name": "stdout",
          "output_type": "stream",
          "text": [
            "Correlated columns @ 0.8: []\n"
          ]
        }
      ]
    },
    {
      "cell_type": "code",
      "metadata": {
        "id": "tNGsITidHtI3"
      },
      "source": [
        "#Define x and y variable\n",
        "x = df.drop('DEATH_EVENT',axis=1).to_numpy()\n",
        "y = df['DEATH_EVENT'].to_numpy()\n",
        "\n",
        "# Create Train and Test Datasets\n",
        "from sklearn.model_selection import train_test_split\n",
        "x_train, x_test, y_train, y_test = train_test_split(x, y, test_size=0.20,stratify=y,random_state=100)\n",
        "\n",
        "#Scale the Data\n",
        "from sklearn.preprocessing import StandardScaler\n",
        "sc = StandardScaler()\n",
        "x_train2 = sc.fit_transform(x_train)\n",
        "x_test2 = sc.transform(x_test)\n",
        "\n",
        "#Model\n",
        "from sklearn.linear_model import LogisticRegression"
      ],
      "execution_count": null,
      "outputs": []
    },
    {
      "cell_type": "code",
      "metadata": {
        "id": "SzO9zFJ5HtI5",
        "outputId": "105c185e-52c5-4efd-addb-c4e70ea3f471"
      },
      "source": [
        "#Base Logistical Regression Model\n",
        "from sklearn.metrics import classification_report, confusion_matrix  \n",
        "\n",
        "for name,method in [('LogReg', LogisticRegression(solver='lbfgs',class_weight='balanced',\n",
        "                                               random_state=100))]: \n",
        "    method.fit(x_train2,y_train)\n",
        "    predict = method.predict(x_test2)\n",
        "    print('\\nEstimator: {}'.format(name)) \n",
        "    print(confusion_matrix(y_test,predict))  \n",
        "    print(classification_report(y_test,predict)) "
      ],
      "execution_count": null,
      "outputs": [
        {
          "name": "stdout",
          "output_type": "stream",
          "text": [
            "\n",
            "Estimator: LogReg\n",
            "[[34  7]\n",
            " [ 5 14]]\n",
            "              precision    recall  f1-score   support\n",
            "\n",
            "           0       0.87      0.83      0.85        41\n",
            "           1       0.67      0.74      0.70        19\n",
            "\n",
            "    accuracy                           0.80        60\n",
            "   macro avg       0.77      0.78      0.78        60\n",
            "weighted avg       0.81      0.80      0.80        60\n",
            "\n"
          ]
        }
      ]
    },
    {
      "cell_type": "code",
      "metadata": {
        "id": "OMNU7zUpHtI6"
      },
      "source": [
        "#Construct some pipelines \n",
        "from sklearn.pipeline import Pipeline\n",
        "from sklearn.preprocessing import StandardScaler\n",
        "\n",
        "#Create Pipeline\n",
        "\n",
        "pipeline =[]\n",
        "\n",
        "pipe_logreg = Pipeline([('scl', StandardScaler()),\n",
        "                    ('clf', LogisticRegression(solver='lbfgs',class_weight='balanced',\n",
        "                                               random_state=100))])\n",
        "pipeline.insert(0,pipe_logreg)\n",
        "\n",
        "#Set grid search params \n",
        "\n",
        "modelpara =[]\n",
        "\n",
        "param_gridlogreg = {'clf__C': [0.01, 0.1, 1, 10, 100], \n",
        "                    'clf__penalty': ['l2']}\n",
        "modelpara.insert(0,param_gridlogreg)"
      ],
      "execution_count": null,
      "outputs": []
    },
    {
      "cell_type": "code",
      "metadata": {
        "id": "MYvtzNd8HtI7"
      },
      "source": [
        "#Define Plot for learning curve\n",
        "\n",
        "from sklearn.model_selection import learning_curve\n",
        "\n",
        "def plot_learning_curves(model):\n",
        "    train_sizes, train_scores, test_scores = learning_curve(estimator=model,\n",
        "                                                            X=x_train, \n",
        "                                                            y=y_train,\n",
        "                                                            train_sizes= np.linspace(0.1, 1.0, 10),\n",
        "                                                            cv=10,\n",
        "                                                            scoring='recall_weighted',random_state=100)\n",
        "    train_mean = np.mean(train_scores, axis=1)\n",
        "    train_std = np.std(train_scores, axis=1)\n",
        "    test_mean = np.mean(test_scores, axis=1)\n",
        "    test_std = np.std(test_scores, axis=1)\n",
        "    \n",
        "    plt.plot(train_sizes, train_mean,color='blue', marker='o', \n",
        "             markersize=5, label='training recall')\n",
        "    plt.fill_between(train_sizes, train_mean + train_std, train_mean - train_std,\n",
        "                     alpha=0.15, color='blue')\n",
        "\n",
        "    plt.plot(train_sizes, test_mean, color='green', linestyle='--', marker='s', markersize=5,\n",
        "             label='validation recall')\n",
        "    plt.fill_between(train_sizes, test_mean + test_std, test_mean - test_std,\n",
        "                     alpha=0.15, color='green')\n",
        "    plt.grid(True)\n",
        "    plt.xlabel('Number of training samples')\n",
        "    plt.ylabel('Recall')\n",
        "    plt.legend(loc='best')\n",
        "    plt.ylim([0.5, 1.01])\n",
        "    plt.show()"
      ],
      "execution_count": null,
      "outputs": []
    },
    {
      "cell_type": "code",
      "metadata": {
        "id": "YZ3X9CdJHtI7",
        "outputId": "4c790e81-b28c-4c42-adcc-73eed589c01a"
      },
      "source": [
        "#Plot Learning Curve\n",
        "print('Logisistic Regression - Learning Curve')\n",
        "plot_learning_curves(pipe_logreg)"
      ],
      "execution_count": null,
      "outputs": [
        {
          "name": "stdout",
          "output_type": "stream",
          "text": [
            "Logisistic Regression - Learning Curve\n"
          ]
        },
        {
          "data": {
            "image/png": "[encoded data removed]",
            "text/plain": [
              "<Figure size 432x288 with 1 Axes>"
            ]
          },
          "metadata": {
            "needs_background": "light"
          },
          "output_type": "display_data"
        }
      ]
    },
    {
      "cell_type": "code",
      "metadata": {
        "id": "Hp5c7NGhHtI8",
        "outputId": "d3a9eebb-847f-444c-ec99-c0464400ad32"
      },
      "source": [
        "#Bias and Variance Trade-Off\n",
        "from mlxtend.evaluate import bias_variance_decomp\n",
        "\n",
        "#Bias Variance Script\n",
        "print('Bias Variance Trade-Off')\n",
        "for name,method in[('Logistical Model',pipe_logreg)]:        \n",
        "    avg_expected_loss, avg_bias, avg_var = bias_variance_decomp(\n",
        "        method, x_train2, y_train, x_test2, y_test, \n",
        "        loss='0-1_loss',\n",
        "        random_seed=100)\n",
        "    print('\\nEstimator: {}'.format(name)) \n",
        "    print('\\nAverage Bias: {:.2f}'.format(avg_bias))\n",
        "    print('Average Variance: {:.2f}'.format(avg_var))     "
      ],
      "execution_count": null,
      "outputs": [
        {
          "name": "stdout",
          "output_type": "stream",
          "text": [
            "Bias Variance Trade-Off\n",
            "\n",
            "Estimator: Logistical Model\n",
            "\n",
            "Average Bias: 0.20\n",
            "Average Variance: 0.07\n"
          ]
        }
      ]
    },
    {
      "cell_type": "code",
      "metadata": {
        "id": "CsTGenfrHtI8",
        "outputId": "2a5b7cf3-a572-470c-b2c1-273c9242779c"
      },
      "source": [
        "#Model Analysis\n",
        "from sklearn.model_selection import RepeatedKFold\n",
        "from sklearn.model_selection import cross_val_score\n",
        "\n",
        "models=[]\n",
        "models.append(('Logistic Regression',pipe_logreg))\n",
        "\n",
        "#Model Evaluation\n",
        "results =[]\n",
        "names=[]\n",
        "scoring ='recall_weighted'\n",
        "print('Model Evaluation - Recall Weighted')\n",
        "for name, model in models:\n",
        "    rkf=RepeatedKFold(n_splits=10, n_repeats=5, random_state=100)\n",
        "    cv_results = cross_val_score(model,x,y,cv=rkf,scoring=scoring)\n",
        "    results.append(cv_results)\n",
        "    names.append(name)\n",
        "    print('{} {:.2f} +/- {:.2f}'.format(name,cv_results.mean(),cv_results.std()))\n",
        "print('\\n')\n",
        "\n",
        "fig = plt.figure(figsize=(5,5))\n",
        "fig.suptitle('Boxplot View')\n",
        "ax = fig.add_subplot(111)\n",
        "sns.boxplot(data=results)\n",
        "ax.set_xticklabels(names)\n",
        "plt.ylabel('Recall')\n",
        "plt.xlabel('Model')\n",
        "plt.show()"
      ],
      "execution_count": null,
      "outputs": [
        {
          "name": "stdout",
          "output_type": "stream",
          "text": [
            "Model Evaluation - Recall Weighted\n",
            "Logistic Regression 0.78 +/- 0.09\n",
            "\n",
            "\n"
          ]
        },
        {
          "data": {
            "image/png": "[encoded data removed]",
            "text/plain": [
              "<Figure size 360x360 with 1 Axes>"
            ]
          },
          "metadata": {
            "needs_background": "light"
          },
          "output_type": "display_data"
        }
      ]
    },
    {
      "cell_type": "code",
      "metadata": {
        "id": "XWU9otFUHtI9"
      },
      "source": [
        "#Define Gridsearch Function\n",
        "\n",
        "from sklearn.model_selection import GridSearchCV\n",
        "from sklearn.metrics import classification_report, confusion_matrix  \n",
        "\n",
        "def Gridsearch_cv(model, params):\n",
        "    \n",
        "    #Cross-validation Function\n",
        "    cv2=RepeatedKFold(n_splits=10, n_repeats=5, random_state=100)\n",
        "        \n",
        "    #GridSearch CV\n",
        "    gs_clf = GridSearchCV(model, params, cv=cv2,scoring='recall_weighted')\n",
        "    gs_clf = gs_clf.fit(x_train, y_train)\n",
        "    model = gs_clf.best_estimator_\n",
        "    \n",
        "    # Use best model and test data for final evaluation\n",
        "    y_pred = model.predict(x_test)\n",
        "    \n",
        "    #Identify Best Parameters to Optimize the Model\n",
        "    bestpara=str(gs_clf.best_params_)\n",
        "    \n",
        "    #Output Heading\n",
        "    print('\\nOptimized Model')\n",
        "    print('\\nModel Name:',str(pipeline.named_steps['clf']))\n",
        "        \n",
        "    #Output Validation Statistics\n",
        "    target_names=['Outcome 0','Outcome 1']\n",
        "    print('\\nBest Parameters:',bestpara)\n",
        "    print('\\n', confusion_matrix(y_test,y_pred))  \n",
        "    print('\\n',classification_report(y_test,y_pred,target_names=target_names)) \n",
        "        \n",
        "    #Transform the variables into binary (0,1) - ROC Curve\n",
        "    from sklearn import preprocessing\n",
        "    Forecast1=pd.DataFrame(y_pred)\n",
        "    Outcome1=pd.DataFrame(y_test)\n",
        "    lb1 = preprocessing.LabelBinarizer()\n",
        "    OutcomeB1 =lb1.fit_transform(Outcome1)\n",
        "    ForecastB1 = lb1.fit_transform(Forecast1)\n",
        "    \n",
        "    #Setup the ROC Curve\n",
        "    from sklearn.metrics import roc_curve, auc\n",
        "    from sklearn import metrics\n",
        "    fpr, tpr, threshold = metrics.roc_curve(OutcomeB1, ForecastB1)\n",
        "    roc_auc = metrics.auc(fpr, tpr)\n",
        "    print('ROC Curve')\n",
        "    #Plot the ROC Curve\n",
        "    plt.title('Receiver Operating Characteristic')\n",
        "    plt.plot(fpr, tpr, 'b', label = 'AUC = %0.2f' % roc_auc)\n",
        "    plt.legend(loc = 'lower right')\n",
        "    plt.plot([0, 1], [0, 1],'r--')\n",
        "    plt.xlim([0, 1])\n",
        "    plt.ylim([0, 1])\n",
        "    plt.ylabel('True Positive Rate')\n",
        "    plt.xlabel('False Positive Rate')\n",
        "    plt.show()   "
      ],
      "execution_count": null,
      "outputs": []
    },
    {
      "cell_type": "code",
      "metadata": {
        "id": "91n-cRCmHtI-",
        "outputId": "0c3ba3b3-d2f6-4c82-f757-b2deec2c16c2"
      },
      "source": [
        "#Run Models\n",
        "\n",
        "for pipeline, modelpara in zip(pipeline,modelpara):\n",
        "    Gridsearch_cv(pipeline,modelpara)"
      ],
      "execution_count": null,
      "outputs": [
        {
          "name": "stdout",
          "output_type": "stream",
          "text": [
            "\n",
            "Optimized Model\n",
            "\n",
            "Model Name: LogisticRegression(class_weight='balanced', random_state=100)\n",
            "\n",
            "Best Parameters: {'clf__C': 0.1, 'clf__penalty': 'l2'}\n",
            "\n",
            " [[34  7]\n",
            " [ 5 14]]\n",
            "\n",
            "               precision    recall  f1-score   support\n",
            "\n",
            "   Outcome 0       0.87      0.83      0.85        41\n",
            "   Outcome 1       0.67      0.74      0.70        19\n",
            "\n",
            "    accuracy                           0.80        60\n",
            "   macro avg       0.77      0.78      0.78        60\n",
            "weighted avg       0.81      0.80      0.80        60\n",
            "\n",
            "ROC Curve\n"
          ]
        },
        {
          "data": {
            "image/png": "[encoded data removed]",
            "text/plain": [
              "<Figure size 432x288 with 1 Axes>"
            ]
          },
          "metadata": {
            "needs_background": "light"
          },
          "output_type": "display_data"
        }
      ]
    },
    {
      "cell_type": "code",
      "metadata": {
        "id": "6insJbg5HtI-",
        "outputId": "d9a37c6b-5429-4908-b9d2-b505c9fc3d07"
      },
      "source": [
        "#Next Steps - Feature Selection using SelectFromModel\n",
        "from sklearn.feature_selection import SelectFromModel\n",
        "clf = LogisticRegression(solver='liblinear',class_weight='balanced',\n",
        "                                               random_state=100)\n",
        "clf.fit(x_train2,y_train)\n",
        "model = SelectFromModel(clf, prefit=True)\n",
        "feature_idx = model.get_support()\n",
        "feature_name = df.drop('DEATH_EVENT',axis=1).columns[feature_idx]\n",
        "print('\\nKey Features:',feature_name)"
      ],
      "execution_count": null,
      "outputs": [
        {
          "name": "stdout",
          "output_type": "stream",
          "text": [
            "\n",
            "Key Features: Index(['age', 'ejection_fraction', 'serum_creatinine', 'time'], dtype='object')\n"
          ]
        }
      ]
    }
  ]
}